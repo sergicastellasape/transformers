{
 "cells": [
  {
   "cell_type": "code",
   "execution_count": 1,
   "metadata": {},
   "outputs": [],
   "source": [
    "import spacy\n",
    "import torch\n",
    "import itertools\n",
    "import matplotlib.pyplot as plt\n",
    "import numpy as np\n",
    "import re\n",
    "from transformers import *\n",
    "from custom.transformer_sentence import TransformerSentence\n",
    "from custom.chunker import Chunker\n",
    "from custom.funcs import load_dataset"
   ]
  },
  {
   "cell_type": "code",
   "execution_count": 2,
   "metadata": {
    "code_folding": []
   },
   "outputs": [],
   "source": [
    "# LOAD PRETRAINED MODELS (this is the most costly)\n",
    "# Bert base and large, uncased\n",
    "#BertBaseModel = BertModel.from_pretrained('bert-base-uncased')\n",
    "#BertBaseTokenizer = BertTokenizer.from_pretrained('bert-base-uncased')\n",
    "#BertLargeModel = BertModel.from_pretrained('bert-large-uncased')\n",
    "#BertLargeTokenizer = BertTokenizer.from_pretrained('bert-large-uncased')\n",
    "# Scibert uncased\n",
    "SciBertModel = BertModel.from_pretrained('scibert-scivocab-uncased')\n",
    "SciBertTokenizer = BertTokenizer.from_pretrained('scibert-scivocab-uncased')\n",
    "#SciBertBaseVocabModel = BertModel.from_pretrained('scibert-basevocab-uncased')\n",
    "#SciBertBaseVocabTokenizer = BertTokenizer.from_pretrained('scibert-basevocab-uncased')"
   ]
  },
  {
   "cell_type": "markdown",
   "metadata": {},
   "source": [
    "Load the test dataset from a .txt file into a list of sentences (list of strings)."
   ]
  },
  {
   "cell_type": "code",
   "execution_count": 3,
   "metadata": {},
   "outputs": [],
   "source": [
    "cos = torch.nn.CosineSimilarity(dim=1, eps=1e-5) # similarity func.\n",
    "chunker = Chunker(layer=-1, \n",
    "                  sim_function=cos, \n",
    "                  threshold=0.9, \n",
    "                  exclude_special_tokens=True, \n",
    "                  combinatorics='sequential')"
   ]
  },
  {
   "cell_type": "code",
   "execution_count": 5,
   "metadata": {},
   "outputs": [
    {
     "ename": "NameError",
     "evalue": "name 'remove_subsets' is not defined",
     "output_type": "error",
     "traceback": [
      "\u001b[0;31m---------------------------------------------------------------------------\u001b[0m",
      "\u001b[0;31mNameError\u001b[0m                                 Traceback (most recent call last)",
      "\u001b[0;32m<ipython-input-5-4647225b06d2>\u001b[0m in \u001b[0;36m<module>\u001b[0;34m\u001b[0m\n\u001b[0;32m----> 1\u001b[0;31m \u001b[0mnew_embeddings\u001b[0m\u001b[0;34m,\u001b[0m \u001b[0mnew_tokens\u001b[0m \u001b[0;34m=\u001b[0m \u001b[0mchunker\u001b[0m\u001b[0;34m.\u001b[0m\u001b[0mcompact\u001b[0m\u001b[0;34m(\u001b[0m\u001b[0msentences_obj\u001b[0m\u001b[0;34m[\u001b[0m\u001b[0;36m0\u001b[0m\u001b[0;34m]\u001b[0m\u001b[0;34m)\u001b[0m\u001b[0;34m\u001b[0m\u001b[0;34m\u001b[0m\u001b[0m\n\u001b[0m\u001b[1;32m      2\u001b[0m \u001b[0mprint\u001b[0m\u001b[0;34m(\u001b[0m\u001b[0mnew_tokens\u001b[0m\u001b[0;34m)\u001b[0m\u001b[0;34m\u001b[0m\u001b[0;34m\u001b[0m\u001b[0m\n",
      "\u001b[0;32m~/Repos/zeta-alpha/transformers/custom/chunker.py\u001b[0m in \u001b[0;36mcompact\u001b[0;34m(self, sentence)\u001b[0m\n\u001b[1;32m     30\u001b[0m         \u001b[0;32massert\u001b[0m \u001b[0mtype\u001b[0m\u001b[0;34m(\u001b[0m\u001b[0msentence\u001b[0m\u001b[0;34m)\u001b[0m \u001b[0;34m==\u001b[0m \u001b[0mTransformerSentence\u001b[0m \u001b[0;31m#, \"Input must be a TransformerSentence Object!\"\u001b[0m\u001b[0;34m\u001b[0m\u001b[0;34m\u001b[0m\u001b[0m\n\u001b[1;32m     31\u001b[0m         \u001b[0;32mif\u001b[0m \u001b[0;32mnot\u001b[0m \u001b[0msentence\u001b[0m\u001b[0;34m.\u001b[0m\u001b[0msummary\u001b[0m\u001b[0;34m:\u001b[0m\u001b[0;34m\u001b[0m\u001b[0;34m\u001b[0m\u001b[0m\n\u001b[0;32m---> 32\u001b[0;31m             \u001b[0msentence\u001b[0m\u001b[0;34m.\u001b[0m\u001b[0mwrite_summary\u001b[0m\u001b[0;34m(\u001b[0m\u001b[0;34m)\u001b[0m\u001b[0;34m\u001b[0m\u001b[0;34m\u001b[0m\u001b[0m\n\u001b[0m\u001b[1;32m     33\u001b[0m \u001b[0;34m\u001b[0m\u001b[0m\n\u001b[1;32m     34\u001b[0m         \u001b[0mindices_to_compact\u001b[0m \u001b[0;34m=\u001b[0m \u001b[0mself\u001b[0m\u001b[0;34m.\u001b[0m\u001b[0mindices_to_compact_by_similarity_threshold\u001b[0m\u001b[0;34m(\u001b[0m\u001b[0msentence\u001b[0m\u001b[0;34m)\u001b[0m\u001b[0;34m\u001b[0m\u001b[0;34m\u001b[0m\u001b[0m\n",
      "\u001b[0;32m~/Repos/zeta-alpha/transformers/custom/chunker.py\u001b[0m in \u001b[0;36mindices_to_compact_by_similarity_threshold\u001b[0;34m(self, sentence)\u001b[0m\n\u001b[1;32m     70\u001b[0m             \u001b[0msimilarities\u001b[0m \u001b[0;34m=\u001b[0m \u001b[0mself\u001b[0m\u001b[0;34m.\u001b[0m\u001b[0msim_function\u001b[0m\u001b[0;34m(\u001b[0m\u001b[0mcenter\u001b[0m\u001b[0;34m,\u001b[0m \u001b[0mgroup_candidate\u001b[0m\u001b[0;34m)\u001b[0m\u001b[0;34m\u001b[0m\u001b[0;34m\u001b[0m\u001b[0m\n\u001b[1;32m     71\u001b[0m             \u001b[0mworst_sim\u001b[0m\u001b[0;34m,\u001b[0m \u001b[0m_\u001b[0m \u001b[0;34m=\u001b[0m \u001b[0mtorch\u001b[0m\u001b[0;34m.\u001b[0m\u001b[0mmin\u001b[0m\u001b[0;34m(\u001b[0m\u001b[0msimilarities\u001b[0m\u001b[0;34m,\u001b[0m \u001b[0mdim\u001b[0m\u001b[0;34m=\u001b[0m\u001b[0;36m0\u001b[0m\u001b[0;34m)\u001b[0m\u001b[0;34m\u001b[0m\u001b[0;34m\u001b[0m\u001b[0m\n\u001b[0;32m---> 72\u001b[0;31m             \u001b[0;32mif\u001b[0m \u001b[0mworst_sim\u001b[0m \u001b[0;34m>\u001b[0m \u001b[0mself\u001b[0m\u001b[0;34m.\u001b[0m\u001b[0mthreshold\u001b[0m\u001b[0;34m:\u001b[0m \u001b[0mall_indices_to_compact\u001b[0m\u001b[0;34m.\u001b[0m\u001b[0mappend\u001b[0m\u001b[0;34m(\u001b[0m\u001b[0mindices\u001b[0m\u001b[0;34m)\u001b[0m\u001b[0;34m\u001b[0m\u001b[0;34m\u001b[0m\u001b[0m\n\u001b[0m\u001b[1;32m     73\u001b[0m \u001b[0;34m\u001b[0m\u001b[0m\n\u001b[1;32m     74\u001b[0m         \u001b[0mindices_to_compact\u001b[0m \u001b[0;34m=\u001b[0m \u001b[0mremove_subsets\u001b[0m\u001b[0;34m(\u001b[0m\u001b[0mall_indices_to_compact\u001b[0m\u001b[0;34m)\u001b[0m\u001b[0;34m\u001b[0m\u001b[0;34m\u001b[0m\u001b[0m\n",
      "\u001b[0;31mNameError\u001b[0m: name 'remove_subsets' is not defined"
     ]
    }
   ],
   "source": []
  },
  {
   "cell_type": "code",
   "execution_count": null,
   "metadata": {
    "code_folding": [
     1,
     6,
     47,
     59
    ]
   },
   "outputs": [],
   "source": [
    "\n",
    "def remove_subsets(L):\n",
    "    filtered = filter(lambda f: not any(set(f) < set(g) for g in L), L)\n",
    "    return list(filtered)\n",
    "\n",
    "\n",
    "def indices_to_compact_by_similarity_threshold(sequence_embeddings,\n",
    "                                               sim_function=cos,\n",
    "                                               threshold=0.1,\n",
    "                                               exclude_special_tokens=True,\n",
    "                                               combinatorics=None):\n",
    "    # combinatorics= 'sequential', 'all'\n",
    "    seq_length, embedding_size = sequence_embeddings.size() #make sure the input is proper size!!\n",
    "    indices = list(range(seq_length))    \n",
    "    \n",
    "    # Combinations of indices that are group candidates\n",
    "    if combinatorics == 'sequential':\n",
    "        if exclude_special_tokens:\n",
    "            idx_combinations = [indices[s:e] for s, e in itertools.combinations(range(1, len(indices)), 2)]\n",
    "        else:\n",
    "            idx_combinations = [indices[s:e] for s, e in itertools.combinations(range(len(indices)+1), 2)]\n",
    "            \n",
    "    elif combinatorics == 'all':\n",
    "        idx_combinations = []\n",
    "        for L in range(2, seq_length+1):\n",
    "            combinations = list(itertools.combinations(indices, r=L))\n",
    "            idx_combinations.extend(combinations)\n",
    "    else:\n",
    "        raise ValueError('You must specify the combinatorics as \"sequencial\" or \"all\"!!')\n",
    "    \n",
    "    \n",
    "    all_indices_to_compact = []\n",
    "    for indices in idx_combinations:\n",
    "        group_candidate = sequence_embeddings[indices, :]\n",
    "        group_size = len(indices)\n",
    "        center = torch.mean(group_candidate, dim=0)\n",
    "        center = center.repeat(group_size, 1)\n",
    "        # calculate all embeddings similarities w.r.t. the center of the group\n",
    "        similarities = sim_function(center, group_candidate)\n",
    "        worst_sim, _ = torch.min(similarities, dim=0)\n",
    "        if worst_sim > threshold: all_indices_to_compact.append(indices)\n",
    "            \n",
    "    indices_to_compact = remove_subsets(all_indices_to_compact)\n",
    "    \n",
    "    return indices_to_compact\n",
    "\n",
    "\n",
    "def compact_embeddings(original_embeddings, indices_to_compact):\n",
    "    new_embeddings_list = []\n",
    "    for indices in indices_to_compact:\n",
    "        group = original_embeddings[indices, :]\n",
    "        center = torch.mean(group, dim=0)\n",
    "        new_embeddings_list.append(center)\n",
    "        \n",
    "    new_embeddings = torch.stack(new_embeddings_list, dim=0)\n",
    "    \n",
    "    return new_embeddings\n",
    "\n",
    "\n",
    "def chunks_prediction_from_sentence_objects(sentences_obj, thr=0.9, model_layer=-1):\n",
    "    transformer_chunks = [] #this is gonna be a list of lists\n",
    "    for transformer_sentence in sentences_obj:\n",
    "        sentence_tokens = transformer_sentence.summary['input_tokens']\n",
    "        full_representation = transformer_sentence.summary['states'][model_layer, :, :]\n",
    "        indices_to_compact = indices_to_compact_by_similarity_threshold(full_representation,\n",
    "                                                                        sim_function=cos,\n",
    "                                                                        threshold=thr,\n",
    "                                                                        exclude_special_tokens=True,\n",
    "                                                                        combinatorics='sequential')\n",
    "        chunks = []\n",
    "        for chunk_indices in indices_to_compact:\n",
    "            if len(chunk_indices) > 1:\n",
    "                tokens = [sentence_tokens[i] for i in chunk_indices]\n",
    "                # remove leading ## and everything after _ in tokens to match the words\n",
    "                tokens = [re.sub(r'_(.*)', '', token).replace('##', '') for token in tokens]\n",
    "                joint_token = '_'.join(tokens)\n",
    "                chunks.append(joint_token)\n",
    "\n",
    "        transformer_chunks.append(chunks)\n",
    "    return transformer_chunks"
   ]
  },
  {
   "cell_type": "code",
   "execution_count": 8,
   "metadata": {
    "code_folding": [
     1
    ]
   },
   "outputs": [],
   "source": [
    "def recall_between_lists(ground_truth, prediction):\n",
    "    recall, total = 0, 0\n",
    "    for i, sentence in enumerate(ground_truth):\n",
    "        for chunk in sentence:\n",
    "            total += 1\n",
    "            if chunk in prediction[i]: recall += 1\n",
    "    return recall / total"
   ]
  },
  {
   "cell_type": "code",
   "execution_count": 7,
   "metadata": {
    "code_folding": []
   },
   "outputs": [
    {
     "name": "stderr",
     "output_type": "stream",
     "text": [
      "100%|██████████| 301/301 [00:34<00:00,  8.83it/s]\n"
     ]
    }
   ],
   "source": [
    "sentences, sentences_obj = load_dataset(txt_path='../datasets/quora_questions.txt',\n",
    "                                       return_embeddings=False,\n",
    "                                       MODEL=SciBertModel,\n",
    "                                       TOKENIZER=SciBertTokenizer)\n",
    "\n",
    "sentences = [sentence.lower() for sentence in sentences]"
   ]
  },
  {
   "cell_type": "code",
   "execution_count": 5,
   "metadata": {},
   "outputs": [
    {
     "name": "stdout",
     "output_type": "stream",
     "text": [
      "Sentence Tokenization:  ['[CLS]', 'what', 'is', 'a', 'bayesian', 'neural', 'network', '?', '[SEP]']\n",
      "['what_is_a_bayesian_neural', 'a_bayesian_neural_network', 'neural_network_?']\n"
     ]
    }
   ],
   "source": [
    "s = \"What is a bayesian neural network?\"\n",
    "sentence = TransformerSentence(s)\n",
    "new_embeddings, new_tokens = chunker.compact(sentence)\n",
    "print(new_tokens)"
   ]
  },
  {
   "cell_type": "code",
   "execution_count": 9,
   "metadata": {},
   "outputs": [],
   "source": [
    "#!python -m spacy download en\n",
    "# Generate the spacy noun chunks as \"ground truth\"!\n",
    "nlp = spacy.load(\"en\") # en_core_web_sm\n",
    "\n",
    "spacy_noun_chunks = [] # this is gonna be a list of lists\n",
    "for sentence in sentences:\n",
    "    doc = nlp(sentence)\n",
    "    chunks = []\n",
    "    for chunk in doc.noun_chunks:\n",
    "        joint_token = str(chunk).replace(' ', '_')\n",
    "        \n",
    "        chunks.append(joint_token)\n",
    "    spacy_noun_chunks.append(chunks)"
   ]
  },
  {
   "cell_type": "code",
   "execution_count": 10,
   "metadata": {},
   "outputs": [
    {
     "name": "stdout",
     "output_type": "stream",
     "text": [
      "[['convolutional_neural_networks', 'tasks', 'image_classification'], ['non-causal_temporal_convolutions', 'the_equivalence'], ['any_techniques', 'rnn/lstm', 'time_series_data'], ['bayesian_inference', 'what', 'a_dirichlet_process', \"layman's_terms\"], ['an_objective_account', 'statistical_inference', 'frequentist_methods', 'bayesian_methods'], ['bayesian_network', 'deep_learning', 'causation'], ['deep_neural_networks', 'the_minimum_function'], ['facial_recognition_tools'], ['neural_networks', 'lstm', 'time_series_prediction'], ['time_series_dynamic_modelling'], [], ['you', 'the_hmm_algorithm'], ['classification', 'machine_learning', 'i', 'a_k-nn_classifier', 'a_naive_bayes_classifier'], ['computer_vision', 'what', 'the_difference', 'hog', 'feature_descriptor'], ['computer_vision', 'what', 'the_difference', 'local_descriptors', 'global_descriptors'], ['convex_optimization', 'what', 'the_advantage', 'direction_method', 'multipliers', 'admm', 'what', 'the_use_case', 'this_type', 'method', 'classic_gradient_descent', 'gradient_descent_method'], ['most_machine', 'algorithms', 'batch', 'they', 'they', 'a_new_bit', 'data'], ['computer_vision', 'object_detection', 'machine_learning'], ['recognition_technology', 'a_person', 'they', 'wrinkles', 'scars', 'cosmetic_surgery', 'example', 'a_facelift'], ['machine_learning', 'more_data'], ['svm', 'it', 'logistic_regression', 'a_non-linear_case'], ['data', 'what_steps', 'one', 'what_distribution', 'poisson', 'gamma', 'beta', 'the_data'], ['energy_based_models', 'deep_learning', 'probability'], ['linear_regression', 'gradient_descent', 'gradient_descent', 'a_type', 'linear_regression', 'it', 'ols', 'least_squares', 'gls'], ['the_monte_carlo_methods', 'an_inference', 'probabilistic_graphical_models'], ['the_parameters', 'a_bayesian_network'], ['how_can_deep_learning', 'benefit', 'bayesian_methods'], ['recognition_algorithms', 'photos'], ['i', 'gaussian_processes', 'regression'], ['computing'], ['a_tpu', 'gpu'], ['recognition_algorithms', 'human_faces'], ['fully_convolutional_networks', 'their_coarse_output'], ['i', 'a_face_recognition', 'opencv_library', 'dlib'], ['i', 'the_computational_time_complexity', 'big-o', 'back_propagation', 'a_feedforward_neural_network'], ['i', 'feature_selection'], ['i', 'svm_kernels'], ['image_recognition_algorithms'], ['we', 'cnn', 'deep_features'], ['you', 'the_value', 'channels', 'you', 'your_cnn'], ['you', 'which_approach', 'a_problem', 'bayesian', 'frequentist'], ['you', 'the_derivative', 'the_cross-entropy_loss_function', 'a_convolutional_neural_network'], ['you', 'the_accuracy', 'a_neural_network'], ['you', 'a_class', 'event_probabilities', 'the_context', 'predictive_modelling'], ['a_conditional_probability', 'poisson', 'exponentials'], ['bayesian_optimization'], ['how_does_bayesian_reasoning_account', 'overfitting'], ['how_does_facial_recognition_deal', 'hair'], ['how_does_facial_recognition_distinguish', 'pictures', 'a_face', 'the_actual_face'], ['fingerprints'], ['how_does_lstm_help', 'the_vanishing', 'gradient_problem', 'a_recurrent_neural_network'], ['how_does_multinomial_naive_bayes_work'], ['ocr'], ['a_neural_network'], ['how_does_the_bayes_classifier_work'], ['the_face_recognition_system', 'a_new_person', 'the_system'], ['the_facial_recognition_algorithms_work', 'an_image', 'all_faces', 'them', 'names'], ['how_does_the_lda_allocation_work'], ['what', 'its_working_model'], ['the_model', 'faster_r-cnn', '50_work'], ['the_perceptual_image', 'you', 'it'], ['how_does_the_region_proposal_network', 'rpn', 'faster_r-cnn_work'], ['the_sliding_window', 'faster_r-cnn'], [], ['someone', 'a_specific_example'], ['how_facial_hair', 'large_beards', 'face_recognition_algorithm'], ['a_convolutional_neural_network', 'invariant_features'], ['graph_theory', 'data_science', 'neural_networks'], ['isotonic_regression', 'practice', 'calibration', 'machine_learning'], ['how_is_lstm', 'rnn'], ['a_layman_explanation'], ['the_hidden_state', 'h', 'the_memory', 'c', 'an_lstm_cell'], ['how_many_layers'], ['how_many_parameters', 'resnet-50'], ['how_many_terms', 'a_bayes_model'], ['classical_machine', 'algorithms', 'svms', 'decision_trees', 'deep_learning'], ['i', 'a_simple_color_recognition_app', 'scratch', 'libraries', 'other_pre-written_code'], ['instance', 'i', 'my_webcam', 'an_object', 'the_name', 'its_color', 'the_screen'], [\"layman's_terms\", 'what', 'the_differences', 'similarities', 'bayes_networks', 'markov_decision_process', 'hidden_markov_models'], [\"layman's_terms\", 'sampling_work'], [\"layman's_terms\"], ['lstm', 'you', 'what_size', 'the_weights'], ['neural_network', 'each_neuron', 'a_hidden_layer', 'a_certain_feature', 'eye', 'example', 'it', 'what', 'an_eye', 'the_meaning', 'eye', 'a_combination', 'eyebrow', 'teeth', 'some_other_combinations'], ['optimization', \"newton's_method\", 'gradient_descent'], ['python_keras', 'you', 'the_output', 'two_different_models', 'it', 'another_model'], ['what_situation', 'i', 'neural_networks', 'machine_learning', 'algorithms'], ['what_situations', 'facial_recognition'], ['what_types', 'situations', 'we', 'vanilla_recurrent_neural_networks', 'lstm'], ['cases', 'grus', 'lstms'], ['what', 'the_difference', 'bayesian_estimation', 'maximum_likelihood_estimation'], ['bayesian_statistics', 'frequentist_statistics'], ['c#_a_good_programming_language', 'image_processing_and_computer_vision'], ['convolutional_neural_network_basically_data-preprocessing', 'kernel', 'neural_networks'], ['just_neural_networks', 'some_pre-processing', 'automated_feature_selections'], [], ['it', 'a_neural_machine_translation_system', 'statistical_mt', 'you', 'all_the_right_ingredients'], ['it', 'a_neural_network'], ['is_lstm', 'a_neural_network'], ['the_architecture', 'text_generation', 'rnns'], ['the_lda_parametric'], ['a_practical_size_limitation', 'convolutional_neural_networks'], ['any_correlation', 'quine’s_underdetermination_and_bayesian_issues', 'old_evidence', 'new_theories'], ['wider_or_deeper_convolutional_neural_networks', 'computer_vision_tasks'], ['many_statistical_tests', 'the_physical_sciences', 'approximations', 'distribution', 'order', 'confidence_levels', 'samples', 'a_larger_population'], ['bayesian_methods'], ['i', 'tensorflow', 'pytorch'], ['algorithms', 'two_images/objects'], ['what', 'factorization_machines', 'they', 'machine_learning'], ['what', 'kernels', 'machine_learning', 'we', 'them'], ['what', 'markov_chain_monte_carlo_methods', \"layman's_terms\"], ['what', 'prior_and_posterior_probabilities'], ['what', 'probabilistic_graphical_models', 'they'], ['what', 'siamese_neural_networks', 'what_applications', 'they'], ['what', 'some_applications', 'probabilistic_graphical_models'], ['what', 'some_benefits', 'drawbacks', 'discriminative_and_generative_models'], ['what', 'some_fundamental_deep_learning_papers', 'code', 'data', 'the_result', 'the_way'], ['what', 'some_good_papers', 'topic_modeling', 'short_texts', 'tweets'], ['what', 'some_interesting_things', 'machine_learning_algorithms', 'few_practicing_data_scientists'], ['what', 'some_intuitive_examples', 'the_bayes'], ['what', 'the_current_challenges', 'self-driving/autonomous_cars', 'computer_vision_context'], ['what', 'some_recent_advances', 'non-convex_optimization_research'], ['what', 'some_unsolved_problems', 'deep_machine_learning'], ['what', 'rnns', 'lstm', 'gru'], ['what', 'some_ways', 'pre-procesing_images', 'convolutional_neural_networks', 'the_task', 'image_classification'], ['what', 'the_advantages', 'bayesian_methods', 'frequentist_methods', 'web_data'], ['what', 'the_advantages', 'convolution'], ['what', 'the_advantages', 'different_classification_algorithms'], ['what', 'the_advantages', 'fully_convolutional_networks', 'cnns'], ['what', 'the_advantages', 'logistic_regression', 'decision_trees'], ['any_cases', 'it', 'logistic_regression', 'decision_trees'], ['what', 'the_algorithms', 'a_point', 'an_arbitrary_closed_shape'], ['what', 'the_applications', 'face_recognition'], ['what', 'the_benefits', 'the_laplace', 'the_gaussian', 'the_bayesian_inference'], ['what', 'the_best_visualizations', 'machine_learning', 'algorithms'], ['what', 'the_current_major_limitations', 'computer_vision'], ['what', 'the_differences', 'dbn', 'cnn'], ['which_one', 'object_detection'], ['what', 'the_differences', 'generative_and_discriminative_machine_learning'], ['what', 'the_disadvantages', 'a_naive_bayes', 'classification'], ['what', 'the_interesting_differences', 'the_total_probability_theory', 'the_bayes_theorem'], ['what', 'the_limits', 'deep_learning'], ['what', 'the_main_differences', 'the_word_embeddings', 'elmo', 'bert', 'word2vec', 'glove'], ['what', 'the_main_drawbacks', 'current_image_segmentation_algorithms'], ['what', 'the_main_operational_problems', 'neural_networks'], ['what', 'the_most_critical_shortcomings', 'computer_vision', 'models', 'robots', 'automation'], ['what', 'the_most_important_problems', 'computer_vision'], ['what', 'the_most_important_problems', 'face_recognition'], ['what', 'the_pros', 'cons', 'a_bayesian_network', 'a_markov_decision_process'], ['what', 'the_pros', 'cons', 'matlab', 'open_cv', 'image_processing'], ['what', 'the_real_life_applications', 'convex_hulls'], ['what', 'the_units', 'lstm_keras'], ['what', 'bad_facial_recognition'], ['what', 'a_1x1_convolutional_layer'], ['what', 'dimensional_reduction', 'a_neural_network'], ['what', 'it', 'all_produced_images', 'a_gan'], ['what', 'max'], ['what', 'the_alpha', 'the_dual_form', 'the_svm_optimization_problem'], ['what', \"'exact_inference\", 'the_context', 'probabilistic_graphical_models'], ['what', '‘variational_inference', 'the_context', 'probabilistic_graphical_models'], ['what', 'a_bayesian_neural_network'], ['what', 'a_convolutional_neural_network'], ['what', 'a_difference', 'one_more_layer', 'neurons', 'one_layer'], ['what', 'a_good_explanation', \"mit's_new_sparse_fast_fourier_transform\", 'non-technical_people'], ['what', 'a_layer', 'tensorflow'], ['what', 'a_neural_network_accelerator'], ['what', 'a_receptive_field', 'a_convolutional_neural_network'], ['what', 'a_sequence_classification', 'lstm'], ['what', 'a_simple_explanation', 'artificial_neural_networks'], ['what', 'a_stochastic_process', \"layman's_terms\"], ['what', 'a_unit', 'lstm'], ['what', 'alpha', 'multinomial_naive_bayes'], ['what', 'an_intuitive_explanation'], ['what', 'an_intuitive_explanation', 'neural_networks'], ['what', 'an_intuitive_explanation', \"bayes'_rule\"], ['what', 'an_intuitive_explanation', 'convolutional_neural_networks'], ['what', 'an_intuitive_explanation', 'fisher_information'], ['what', 'an_intuitive_explanation', 'lstms', 'grus'], ['what', 'an_intuitive_explanation', 'stochastic_gradient_descent'], ['what', 'an_intuitive_explanation', 'the_xavier_initialization', 'deep_neural_networks'], ['what', \"bayes'_law\"], ['what', 'bayesian_inference', 'statistics'], ['bayesian_inference'], ['what'], [], ['what', 'vector_machine_(svm)_classifier'], ['which_algorithm'], ['algorithm', 'reliable_detection', 'unpredictable_situations'], ['what', 'causality'], ['what', 'current_cutting-edge_research', 'bayesian_statistics', 'topics', 'machine_learning'], ['what', 'deep_learning', 'what', 'deep_neural_networks'], ['what', 'differentiable_programming'], ['what', '|_embedded_space', '|', 'deep_neural_architectures'], ['what', 'exactly_the_attention_mechanism', 'rnn', '(recurrent_neural_network'], ['it', 'you', 'it', 'what', \"google's_capsule_network\"], ['it', 'convolutional_neural_networks'], ['what_problems', 'areas', 'neural_network'], ['what', 'it'], ['what', 'lstm', 'keras'], ['what', 'mirror_descent', 'it', 'gradient_descent'], ['what', 'r-cnn'], ['what', 'keras'], ['what', 'softmax', 'cnn'], ['what', 'softmax_regression', 'it', 'logistic_regression'], ['what', \"tesla's_'deep_rain\", 'what', 'it'], ['what', 'the_advantage', 'convolutional_neural_network', '(cnn', 'recurrent_neural_network', 'rnn'], ['what', 'the_best_neural_network_library', 'python'], ['what', 'the_best_ocr_software', 'pdf_files', 'image_text', 'text_files'], ['what', 'the_conceptual_meaning', 'markov_chains'], ['what', 'the_core', 'bayesian_thinking'], ['what', 'the_default_learning_rate', 'keras'], ['what', 'the_difference', 'bayes’_theorem_and_conditional_probability'], ['what', 'the_difference', 'binary_classification', 'bayes_classifier', 'bayes_decision_boundary'], ['what', 'the_difference', 'cnn', 'r-cnn'], ['what', 'the_difference', 'detection', 'classification', 'computer_vision'], ['what', 'the_difference', 'dropout', 'normalization'], ['what', 'the_difference', 'gaussian', 'bayesian'], ['what', 'the_difference', 'hierarchical_recurrent_neural_network', 'lstm'], ['what', 'the_difference', 'image_processing_and_computer_vision'], ['what', 'the_difference', 'linear_convolution', 'circular_convolution'], ['what', 'the_difference', 'logistic_regression', 'naive_bayes'], ['what', 'the_difference', 'ripv1', 'ripv2'], ['what', 'the_difference', 'rnn'], ['what', 'the_difference', 'sfm', 'visual_slam'], ['what', 'the_difference', 'stacked_lstm', 'multidimensional_lstm'], ['what', 'the_difference', 'the_naive_bayes_classifier', 'the_bayes_classifier'], ['what', 'the_difference', 'topic-word', 'document-topic_distribution', 'lda_topical_modeling'], ['what', 'the_difference', 'transfer_learning', 'fine_tuning'], ['what', 'the_formal_explanation', 'why_adversarial_model', 'neural_network'], ['what', 'the_gradient', 'loss_function'], ['what', 'the_hessian_matrix'], ['what', 'it', 'what_reason'], ['what', 'the_intuition', 'bayesian_hierarchical_modeling'], ['what', 'the_learning_rate', 'the_context', 'deep_learning'], ['what', 'the_naive_bayes_classifier', 'machine_learning'], ['what', 'the_necktie_paradox', 'bayesian_statistics'], ['what', 'the_power', 'bayesian_networks'], ['what', 'the_reason', 'convolutional_neural_nets', 'time_series', 'recurrent_neural_nets'], ['what', 'the_relation', 'machine_learning', 'image_processing', 'computer', 'vision'], ['what', 'the_relationship', 'logistic_regression', 'bayes'], ['what', 'the_relationship', 'timestep_and_number_hidden_unit', 'lstm'], ['what', 'the_simplest_explanation', 'bayesian_statistics'], ['what', 'the_smallest_number', 'data_points', 'reliable_machine_learning'], ['what', 'the_tldr', 'spherical_convolutional_neural_networks', 'iclr', '2018_best_paper'], ['what', 'the_vanishing_gradient_problem'], ['what', 'visual_inertial_odometry', 'steps', 'it'], ['what_machine_learning_networks', 'algorithms', 'images', 'gans', '10_training_hours', 'deep_learning', 'just_machine_learning'], ['what', 'model_parameters', 'latent_variables'], ['what_newly_developed_machine_learning_models', 'deep_learning'], ['what_shortcomings', 'you', 'deep_learning'], ['what', 'a_good_way', 'intuition', 'the_lasso', 'l1_regularization', 'sparse_weight_vectors'], ['what', 'the_difference', 'bayesian'], ['frequentist_statistical_approaches', 'simple_laymen_terms'], ['bayesian_inference', 'limitations', 'frequentist_approaches'], ['a_deep_learning_model', '(cnn', 'lstm', 'autoencoder', 'we', 'the_number', 'layers', 'the_number', 'units', 'each_layer', 'sometimes_the_connection', 'them'], ['we', 'mask_r-cnn'], ['the_problem', 'neural_networks'], ['i', 'variational_inference', 'mcmc', 'bayesian_analysis'], ['i', 'an_rnn_lstm', 'arima', 'a_time_series_forecasting_problem'], ['what', 'the_relation', 'them'], ['you', 'random_forest'], ['i', 'the_best_biometrics_facial_recognition_technology', 'id_verification'], ['where_does_each_type', 'neural_network'], ['deep_learning'], ['the_best_image_editing_companies', 'ordinary_images', 'superior_quality_images', 'adobe_photoshop'], ['which_convolutional_network', 'time_series_predictions', 'conv1d', 'conv2d', 'a_cnn_model'], ['which_model', 'the_combination', 'lstm', 'cnn'], ['neural_network_framework', 'keras', 'torch', 'caffe'], ['autoencoders', 'a_failure'], ['what', 'their_alternatives'], ['cnns', 'classification', 'rnns'], ['convolutional_neural_networks', 'other_neural_networks', 'data', 'images', 'video'], ['gpus', 'deep_learning'], ['rnns', 'lstms', 'sentiment_analysis'], ['scikit-learn_machine_learning_models', 'industry', 'tensorflow', 'pytorch'], ['artificial_neural_networks', 'calculation_heavy_sigmoid_function', 'it', 'five_segments'], ['cnns', 'images'], ['why_do_convex', 'optimization_algorithms', 'non-convex_problems', 'machine_learning'], ['deep_learning_models', 'convolutional_layers', 'fully-connected_layers'], ['we', 'a_non-linear_activation_function', 'a_convolutional_neural_network'], ['the_convolution'], [], ['we', 'xgboost', 'random_forest'], ['we', 'naive_bayes_classifiers'], ['a_convex_lens', 'a_bigger_image', 'the_actual_object'], ['normalization', 'averages', 'model_accuracy'], ['detection_accuracy', 'superior_classification_accuracy'], ['bayes'], ['collinearity', 'not_a_problem', 'logistic_regression'], ['gru', 'lstm'], ['it', 'your_inputs', 'gradient_descent'], ['l1_regularization', 'sparsity', 'l2'], ['logistic_regression', 'a_classification_method', 'a_regression_method'], ['logistic_regression', 'naïve_bayes'], ['the_most_common_activation_function', 'neural_networks'], ['the_primal'], ['what_advantages', 'we', 'the_dual'], ['the_frequentist_approach', 'machine', 'the_bayesian_approach'], ['the_output', 'logistic_regression', 'a_probability'], ['the_pooling_layer', 'a_convolution_neural_network'], ['the_pooling_layer', 'cnn'], ['a_saturated_neuron', 'a_problem']]\n"
     ]
    }
   ],
   "source": [
    "print(spacy_noun_chunks)"
   ]
  },
  {
   "cell_type": "code",
   "execution_count": 12,
   "metadata": {},
   "outputs": [
    {
     "data": {
      "text/plain": [
       "<matplotlib.legend.Legend at 0x1a01fd4a8>"
      ]
     },
     "execution_count": 12,
     "metadata": {},
     "output_type": "execute_result"
    },
    {
     "data": {
      "image/png": "[encoded data removed]",
      "text/plain": [
       "<Figure size 432x288 with 1 Axes>"
      ]
     },
     "metadata": {
      "needs_background": "light"
     },
     "output_type": "display_data"
    }
   ],
   "source": [
    "thrs = np.arange(0.80, 1., 0.1)\n",
    "layer = list(range(-1, -3, -1))\n",
    "R = []\n",
    "for L in layer:\n",
    "    recalls = []\n",
    "    for thr in thrs:\n",
    "        tf_chunks = []\n",
    "        for sentence in sentences_obj:\n",
    "            _, t = chunker.compact(sentence, threshold=thr, layer=L)\n",
    "            tf_chunks.append(t)\n",
    "        r = recall_between_lists(spacy_noun_chunks, tf_chunks)\n",
    "        recalls.append(r)\n",
    "    R.append(recalls)\n",
    "\n",
    "\n",
    "for i, recalls in enumerate(R):\n",
    "    plt.plot(thrs, recalls, label=layer[i])\n",
    "plt.legend()"
   ]
  },
  {
   "cell_type": "code",
   "execution_count": 33,
   "metadata": {},
   "outputs": [
    {
     "name": "stdout",
     "output_type": "stream",
     "text": [
      "Are convolutional neural networks useful for tasks other than image classification?\n",
      "Spacy chunks:  ['convolutional_neural_networks', 'tasks', 'image_classification']\n",
      "Distance-based chunks, thr=0.9: ['convolutional_neural_networks', 'networks_useful', 'useful_for', 'for_tasks', 'other_than', 'image_classification']\n",
      "Are non-causal temporal convolutions the equivalence of Bi-LSTM?\n",
      "Spacy chunks:  ['non-causal_temporal_convolutions', 'the_equivalence']\n",
      "Distance-based chunks, thr=0.9: ['non_-', '-_causal', 'causal_temporal_convolution', 'convolution_s', 's_the', 'the_equivalence', 'equivalence_of', 'of_bi', 'bi_-', 'ls_tm']\n",
      "Are there any techniques, other than RNN/LSTM, to handle time series data?\n",
      "Spacy chunks:  ['any_techniques', 'rnn/lstm', 'time_series_data']\n",
      "Distance-based chunks, thr=0.9: ['there_any', 'any_techniques', 'techniques_,', ',_other', 'other_than', 'rn_n', 'n_/', 'ls_tm', ',_to', 'to_handle', 'handle_time', 'time_series_data']\n"
     ]
    }
   ],
   "source": [
    "thr=0.9\n",
    "tf_chunks = chunks_prediction_from_sentence_objects(sentences_obj, thr=thr, model_layer=-4)\n",
    "for i in range(3):\n",
    "    print(sentences_obj[i].raw_string)\n",
    "    print('Spacy chunks: ', spacy_noun_chunks[i])\n",
    "    print(f'Distance-based chunks, thr={thr}:', tf_chunks[i])"
   ]
  },
  {
   "cell_type": "code",
   "execution_count": 91,
   "metadata": {},
   "outputs": [
    {
     "data": {
      "text/plain": [
       "[-1, -2, -3, -4, -5, -6, -7, -8, -9]"
      ]
     },
     "execution_count": 91,
     "metadata": {},
     "output_type": "execute_result"
    }
   ],
   "source": []
  },
  {
   "cell_type": "code",
   "execution_count": 27,
   "metadata": {},
   "outputs": [
    {
     "name": "stdout",
     "output_type": "stream",
     "text": [
      "Sentence Tokenization:  ['[CLS]', 'the', 'car', 'broke', 'down', 'while', 'driving', 'in', 'new', 'york', '.', '[SEP]']\n"
     ]
    }
   ],
   "source": [
    "s = \"the car broke down while driving in New York.\"\n",
    "tf_sentence = TransformerSentence(s, model=BertBaseModel, tokenizer=BertBaseTokenizer)\n",
    "tf_sentence.write_summary()"
   ]
  },
  {
   "cell_type": "code",
   "execution_count": null,
   "metadata": {},
   "outputs": [],
   "source": []
  }
 ],
 "metadata": {
  "kernelspec": {
   "display_name": "Zeta Alpha",
   "language": "python",
   "name": "za_conda"
  },
  "language_info": {
   "codemirror_mode": {
    "name": "ipython",
    "version": 3
   },
   "file_extension": ".py",
   "mimetype": "text/x-python",
   "name": "python",
   "nbconvert_exporter": "python",
   "pygments_lexer": "ipython3",
   "version": "3.7.3"
  }
 },
 "nbformat": 4,
 "nbformat_minor": 2
}
