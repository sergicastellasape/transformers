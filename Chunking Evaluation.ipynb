{
 "cells": [
  {
   "cell_type": "code",
   "execution_count": 67,
   "metadata": {},
   "outputs": [],
   "source": [
    "import spacy\n",
    "import torch\n",
    "import itertools\n",
    "import matplotlib.pyplot as plt\n",
    "import numpy as np\n",
    "from transformers import *\n",
    "from custom.transformer_sentence import TransformerSentence\n",
    "from custom.funcs import load_dataset"
   ]
  },
  {
   "cell_type": "code",
   "execution_count": 2,
   "metadata": {
    "code_folding": []
   },
   "outputs": [],
   "source": [
    "# LOAD PRETRAINED MODELS (this is the most costly)\n",
    "# Bert base and large, uncased\n",
    "BertBaseModel = BertModel.from_pretrained('bert-base-uncased')\n",
    "BertBaseTokenizer = BertTokenizer.from_pretrained('bert-base-uncased')\n",
    "BertLargeModel = BertModel.from_pretrained('bert-large-uncased')\n",
    "BertLargeTokenizer = BertTokenizer.from_pretrained('bert-large-uncased')\n",
    "# Scibert uncased\n",
    "SciBertModel = BertModel.from_pretrained('scibert-scivocab-uncased')\n",
    "SciBertTokenizer = BertTokenizer.from_pretrained('scibert-scivocab-uncased')\n",
    "SciBertBaseVocabModel = BertModel.from_pretrained('scibert-basevocab-uncased')\n",
    "SciBertBaseVocabTokenizer = BertTokenizer.from_pretrained('scibert-basevocab-uncased')"
   ]
  },
  {
   "cell_type": "markdown",
   "metadata": {},
   "source": [
    "Load the test dataset from a .txt file into a list of sentences (list of strings)."
   ]
  },
  {
   "cell_type": "code",
   "execution_count": 57,
   "metadata": {
    "code_folding": [
     2,
     7,
     48,
     59
    ]
   },
   "outputs": [],
   "source": [
    "cos = torch.nn.CosineSimilarity(dim=1, eps=1e-5) # similarity func.\n",
    "\n",
    "def remove_subsets(L):\n",
    "    filtered = filter(lambda f: not any(set(f) < set(g) for g in L), L)\n",
    "    return list(filtered)\n",
    "\n",
    "\n",
    "def indices_to_compact_by_similarity_threshold(sequence_embeddings,\n",
    "                                               sim_function=cos,\n",
    "                                               threshold=0.1,\n",
    "                                               exclude_special_tokens=True,\n",
    "                                               combinatorics=None):\n",
    "    # combinatorics= 'sequential', 'all'\n",
    "    seq_length, embedding_size = sequence_embeddings.size() #make sure the input is proper size!!\n",
    "    indices = list(range(seq_length))    \n",
    "    \n",
    "    # Combinations of indices that are group candidates\n",
    "    if combinatorics == 'sequential':\n",
    "        if exclude_special_tokens:\n",
    "            idx_combinations = [indices[s:e] for s, e in itertools.combinations(range(1, len(indices)), 2)]\n",
    "        else:\n",
    "            idx_combinations = [indices[s:e] for s, e in itertools.combinations(range(len(indices)+1), 2)]\n",
    "            \n",
    "    elif combinatorics == 'all':\n",
    "        idx_combinations = []\n",
    "        for L in range(2, seq_length+1):\n",
    "            combinations = list(itertools.combinations(indices, r=L))\n",
    "            idx_combinations.extend(combinations)\n",
    "    else:\n",
    "        raise ValueError('You must specify the combinatorics as \"sequencial\" or \"all\"!!')\n",
    "    \n",
    "    \n",
    "    all_indices_to_compact = []\n",
    "    for indices in idx_combinations:\n",
    "        group_candidate = sequence_embeddings[indices, :]\n",
    "        group_size = len(indices)\n",
    "        center = torch.mean(group_candidate, dim=0)\n",
    "        center = center.repeat(group_size, 1)\n",
    "        # calculate all embeddings similarities w.r.t. the center of the group\n",
    "        similarities = sim_function(center, group_candidate)\n",
    "        worst_sim, _ = torch.min(similarities, dim=0)\n",
    "        if worst_sim > threshold: all_indices_to_compact.append(indices)\n",
    "            \n",
    "    indices_to_compact = remove_subsets(all_indices_to_compact)\n",
    "    \n",
    "    return indices_to_compact\n",
    "\n",
    "\n",
    "def compact_embeddings(original_embeddings, indices_to_compact):\n",
    "    new_embeddings_list = []\n",
    "    for indices in indices_to_compact:\n",
    "        group = original_embeddings[indices, :]\n",
    "        center = torch.mean(group, dim=0)\n",
    "        new_embeddings_list.append(center)\n",
    "        \n",
    "    new_embeddings = torch.stack(new_embeddings_list, dim=0)\n",
    "    \n",
    "    return new_embeddings\n",
    "\n",
    "\n",
    "def recall_between_lists(ground_truth, prediction):\n",
    "    recall, total = 0, 0\n",
    "    for i, sentence in enumerate(ground_truth):\n",
    "        for chunk in sentence:\n",
    "            total += 1\n",
    "            if chunk in prediction[i]: recall += 1\n",
    "    return recall / total"
   ]
  },
  {
   "cell_type": "code",
   "execution_count": 58,
   "metadata": {
    "code_folding": []
   },
   "outputs": [
    {
     "name": "stderr",
     "output_type": "stream",
     "text": [
      "100%|██████████| 301/301 [00:35<00:00,  8.37it/s]\n"
     ]
    }
   ],
   "source": [
    "sentences, sentences_obj = load_dataset(txt_path='../datasets/quora_questions.txt',\n",
    "                                       return_embeddings=False,\n",
    "                                       MODEL=SciBertModel,\n",
    "                                       TOKENIZER=SciBertTokenizer)\n",
    "\n",
    "sentences = [sentence.lower() for sentence in sentences]"
   ]
  },
  {
   "cell_type": "code",
   "execution_count": 30,
   "metadata": {},
   "outputs": [],
   "source": [
    "# dummy short dataset fro debugging\n",
    "#sentences = sentences[0:4]\n",
    "#sentences_obj = sentences_obj[0:4]"
   ]
  },
  {
   "cell_type": "code",
   "execution_count": 59,
   "metadata": {},
   "outputs": [],
   "source": [
    "#!python -m spacy download en\n",
    "# Generate the spacy noun chunks as \"ground truth\"!\n",
    "nlp = spacy.load(\"en\") # en_core_web_sm\n",
    "\n",
    "spacy_noun_chunks = [] # this is gonna be a list of lists\n",
    "for sentence in sentences:\n",
    "    doc = nlp(sentence)\n",
    "    chunks = []\n",
    "    for chunk in doc.noun_chunks:\n",
    "        joint_token = str(chunk).replace(' ', '_')\n",
    "        chunks.append(joint_token)\n",
    "    spacy_noun_chunks.append(chunks)"
   ]
  },
  {
   "cell_type": "code",
   "execution_count": 84,
   "metadata": {},
   "outputs": [],
   "source": [
    "def chunks_prediction_from_sentence_objects(sentences_obj, thr=0.9, model_layer=-1):\n",
    "    transformer_chunks = [] #this is gonna be a list of lists\n",
    "    for transformer_sentence in sentences_obj:\n",
    "        sentence_tokens = transformer_sentence.summary['input_tokens']\n",
    "        full_representation = transformer_sentence.summary['states'][model_layer, :, :]\n",
    "        indices_to_compact = indices_to_compact_by_similarity_threshold(full_representation,\n",
    "                                                                        sim_function=cos,\n",
    "                                                                        threshold=thr,\n",
    "                                                                        exclude_special_tokens=True,\n",
    "                                                                        combinatorics='sequential')\n",
    "        chunks = []\n",
    "        for chunk_indices in indices_to_compact:\n",
    "            if len(chunk_indices) > 1:\n",
    "                tokens = [sentence_tokens[i] for i in chunk_indices]\n",
    "                # remove leading ## and everything after _ in tokens to match the words\n",
    "                tokens = [re.sub(r'_(.*)', '', token).replace('##', '') for token in tokens]\n",
    "                joint_token = '_'.join(tokens)\n",
    "                chunks.append(joint_token)\n",
    "\n",
    "        transformer_chunks.append(chunks)\n",
    "    return transformer_chunks"
   ]
  },
  {
   "cell_type": "code",
   "execution_count": 92,
   "metadata": {},
   "outputs": [
    {
     "ename": "ValueError",
     "evalue": "x and y must have same first dimension, but have shapes (8,) and (16,)",
     "output_type": "error",
     "traceback": [
      "\u001b[0;31m---------------------------------------------------------------------------\u001b[0m",
      "\u001b[0;31mValueError\u001b[0m                                Traceback (most recent call last)",
      "\u001b[0;32m<ipython-input-92-c5914ba70d19>\u001b[0m in \u001b[0;36m<module>\u001b[0;34m\u001b[0m\n\u001b[1;32m      8\u001b[0m         \u001b[0mrecalls\u001b[0m\u001b[0;34m.\u001b[0m\u001b[0mappend\u001b[0m\u001b[0;34m(\u001b[0m\u001b[0mr\u001b[0m\u001b[0;34m)\u001b[0m\u001b[0;34m\u001b[0m\u001b[0;34m\u001b[0m\u001b[0m\n\u001b[1;32m      9\u001b[0m \u001b[0;34m\u001b[0m\u001b[0m\n\u001b[0;32m---> 10\u001b[0;31m     \u001b[0mplt\u001b[0m\u001b[0;34m.\u001b[0m\u001b[0mplot\u001b[0m\u001b[0;34m(\u001b[0m\u001b[0mthrs\u001b[0m\u001b[0;34m,\u001b[0m \u001b[0mrecalls\u001b[0m\u001b[0;34m)\u001b[0m\u001b[0;34m\u001b[0m\u001b[0;34m\u001b[0m\u001b[0m\n\u001b[0m",
      "\u001b[0;32m~/miniconda3/envs/za_conda/lib/python3.7/site-packages/matplotlib/pyplot.py\u001b[0m in \u001b[0;36mplot\u001b[0;34m(scalex, scaley, data, *args, **kwargs)\u001b[0m\n\u001b[1;32m   2787\u001b[0m     return gca().plot(\n\u001b[1;32m   2788\u001b[0m         *args, scalex=scalex, scaley=scaley, **({\"data\": data} if data\n\u001b[0;32m-> 2789\u001b[0;31m         is not None else {}), **kwargs)\n\u001b[0m\u001b[1;32m   2790\u001b[0m \u001b[0;34m\u001b[0m\u001b[0m\n\u001b[1;32m   2791\u001b[0m \u001b[0;34m\u001b[0m\u001b[0m\n",
      "\u001b[0;32m~/miniconda3/envs/za_conda/lib/python3.7/site-packages/matplotlib/axes/_axes.py\u001b[0m in \u001b[0;36mplot\u001b[0;34m(self, scalex, scaley, data, *args, **kwargs)\u001b[0m\n\u001b[1;32m   1663\u001b[0m         \"\"\"\n\u001b[1;32m   1664\u001b[0m         \u001b[0mkwargs\u001b[0m \u001b[0;34m=\u001b[0m \u001b[0mcbook\u001b[0m\u001b[0;34m.\u001b[0m\u001b[0mnormalize_kwargs\u001b[0m\u001b[0;34m(\u001b[0m\u001b[0mkwargs\u001b[0m\u001b[0;34m,\u001b[0m \u001b[0mmlines\u001b[0m\u001b[0;34m.\u001b[0m\u001b[0mLine2D\u001b[0m\u001b[0;34m.\u001b[0m\u001b[0m_alias_map\u001b[0m\u001b[0;34m)\u001b[0m\u001b[0;34m\u001b[0m\u001b[0;34m\u001b[0m\u001b[0m\n\u001b[0;32m-> 1665\u001b[0;31m         \u001b[0mlines\u001b[0m \u001b[0;34m=\u001b[0m \u001b[0;34m[\u001b[0m\u001b[0;34m*\u001b[0m\u001b[0mself\u001b[0m\u001b[0;34m.\u001b[0m\u001b[0m_get_lines\u001b[0m\u001b[0;34m(\u001b[0m\u001b[0;34m*\u001b[0m\u001b[0margs\u001b[0m\u001b[0;34m,\u001b[0m \u001b[0mdata\u001b[0m\u001b[0;34m=\u001b[0m\u001b[0mdata\u001b[0m\u001b[0;34m,\u001b[0m \u001b[0;34m**\u001b[0m\u001b[0mkwargs\u001b[0m\u001b[0;34m)\u001b[0m\u001b[0;34m]\u001b[0m\u001b[0;34m\u001b[0m\u001b[0;34m\u001b[0m\u001b[0m\n\u001b[0m\u001b[1;32m   1666\u001b[0m         \u001b[0;32mfor\u001b[0m \u001b[0mline\u001b[0m \u001b[0;32min\u001b[0m \u001b[0mlines\u001b[0m\u001b[0;34m:\u001b[0m\u001b[0;34m\u001b[0m\u001b[0;34m\u001b[0m\u001b[0m\n\u001b[1;32m   1667\u001b[0m             \u001b[0mself\u001b[0m\u001b[0;34m.\u001b[0m\u001b[0madd_line\u001b[0m\u001b[0;34m(\u001b[0m\u001b[0mline\u001b[0m\u001b[0;34m)\u001b[0m\u001b[0;34m\u001b[0m\u001b[0;34m\u001b[0m\u001b[0m\n",
      "\u001b[0;32m~/miniconda3/envs/za_conda/lib/python3.7/site-packages/matplotlib/axes/_base.py\u001b[0m in \u001b[0;36m__call__\u001b[0;34m(self, *args, **kwargs)\u001b[0m\n\u001b[1;32m    223\u001b[0m                 \u001b[0mthis\u001b[0m \u001b[0;34m+=\u001b[0m \u001b[0margs\u001b[0m\u001b[0;34m[\u001b[0m\u001b[0;36m0\u001b[0m\u001b[0;34m]\u001b[0m\u001b[0;34m,\u001b[0m\u001b[0;34m\u001b[0m\u001b[0;34m\u001b[0m\u001b[0m\n\u001b[1;32m    224\u001b[0m                 \u001b[0margs\u001b[0m \u001b[0;34m=\u001b[0m \u001b[0margs\u001b[0m\u001b[0;34m[\u001b[0m\u001b[0;36m1\u001b[0m\u001b[0;34m:\u001b[0m\u001b[0;34m]\u001b[0m\u001b[0;34m\u001b[0m\u001b[0;34m\u001b[0m\u001b[0m\n\u001b[0;32m--> 225\u001b[0;31m             \u001b[0;32myield\u001b[0m \u001b[0;32mfrom\u001b[0m \u001b[0mself\u001b[0m\u001b[0;34m.\u001b[0m\u001b[0m_plot_args\u001b[0m\u001b[0;34m(\u001b[0m\u001b[0mthis\u001b[0m\u001b[0;34m,\u001b[0m \u001b[0mkwargs\u001b[0m\u001b[0;34m)\u001b[0m\u001b[0;34m\u001b[0m\u001b[0;34m\u001b[0m\u001b[0m\n\u001b[0m\u001b[1;32m    226\u001b[0m \u001b[0;34m\u001b[0m\u001b[0m\n\u001b[1;32m    227\u001b[0m     \u001b[0;32mdef\u001b[0m \u001b[0mget_next_color\u001b[0m\u001b[0;34m(\u001b[0m\u001b[0mself\u001b[0m\u001b[0;34m)\u001b[0m\u001b[0;34m:\u001b[0m\u001b[0;34m\u001b[0m\u001b[0;34m\u001b[0m\u001b[0m\n",
      "\u001b[0;32m~/miniconda3/envs/za_conda/lib/python3.7/site-packages/matplotlib/axes/_base.py\u001b[0m in \u001b[0;36m_plot_args\u001b[0;34m(self, tup, kwargs)\u001b[0m\n\u001b[1;32m    389\u001b[0m             \u001b[0mx\u001b[0m\u001b[0;34m,\u001b[0m \u001b[0my\u001b[0m \u001b[0;34m=\u001b[0m \u001b[0mindex_of\u001b[0m\u001b[0;34m(\u001b[0m\u001b[0mtup\u001b[0m\u001b[0;34m[\u001b[0m\u001b[0;34m-\u001b[0m\u001b[0;36m1\u001b[0m\u001b[0;34m]\u001b[0m\u001b[0;34m)\u001b[0m\u001b[0;34m\u001b[0m\u001b[0;34m\u001b[0m\u001b[0m\n\u001b[1;32m    390\u001b[0m \u001b[0;34m\u001b[0m\u001b[0m\n\u001b[0;32m--> 391\u001b[0;31m         \u001b[0mx\u001b[0m\u001b[0;34m,\u001b[0m \u001b[0my\u001b[0m \u001b[0;34m=\u001b[0m \u001b[0mself\u001b[0m\u001b[0;34m.\u001b[0m\u001b[0m_xy_from_xy\u001b[0m\u001b[0;34m(\u001b[0m\u001b[0mx\u001b[0m\u001b[0;34m,\u001b[0m \u001b[0my\u001b[0m\u001b[0;34m)\u001b[0m\u001b[0;34m\u001b[0m\u001b[0;34m\u001b[0m\u001b[0m\n\u001b[0m\u001b[1;32m    392\u001b[0m \u001b[0;34m\u001b[0m\u001b[0m\n\u001b[1;32m    393\u001b[0m         \u001b[0;32mif\u001b[0m \u001b[0mself\u001b[0m\u001b[0;34m.\u001b[0m\u001b[0mcommand\u001b[0m \u001b[0;34m==\u001b[0m \u001b[0;34m'plot'\u001b[0m\u001b[0;34m:\u001b[0m\u001b[0;34m\u001b[0m\u001b[0;34m\u001b[0m\u001b[0m\n",
      "\u001b[0;32m~/miniconda3/envs/za_conda/lib/python3.7/site-packages/matplotlib/axes/_base.py\u001b[0m in \u001b[0;36m_xy_from_xy\u001b[0;34m(self, x, y)\u001b[0m\n\u001b[1;32m    268\u001b[0m         \u001b[0;32mif\u001b[0m \u001b[0mx\u001b[0m\u001b[0;34m.\u001b[0m\u001b[0mshape\u001b[0m\u001b[0;34m[\u001b[0m\u001b[0;36m0\u001b[0m\u001b[0;34m]\u001b[0m \u001b[0;34m!=\u001b[0m \u001b[0my\u001b[0m\u001b[0;34m.\u001b[0m\u001b[0mshape\u001b[0m\u001b[0;34m[\u001b[0m\u001b[0;36m0\u001b[0m\u001b[0;34m]\u001b[0m\u001b[0;34m:\u001b[0m\u001b[0;34m\u001b[0m\u001b[0;34m\u001b[0m\u001b[0m\n\u001b[1;32m    269\u001b[0m             raise ValueError(\"x and y must have same first dimension, but \"\n\u001b[0;32m--> 270\u001b[0;31m                              \"have shapes {} and {}\".format(x.shape, y.shape))\n\u001b[0m\u001b[1;32m    271\u001b[0m         \u001b[0;32mif\u001b[0m \u001b[0mx\u001b[0m\u001b[0;34m.\u001b[0m\u001b[0mndim\u001b[0m \u001b[0;34m>\u001b[0m \u001b[0;36m2\u001b[0m \u001b[0;32mor\u001b[0m \u001b[0my\u001b[0m\u001b[0;34m.\u001b[0m\u001b[0mndim\u001b[0m \u001b[0;34m>\u001b[0m \u001b[0;36m2\u001b[0m\u001b[0;34m:\u001b[0m\u001b[0;34m\u001b[0m\u001b[0;34m\u001b[0m\u001b[0m\n\u001b[1;32m    272\u001b[0m             raise ValueError(\"x and y can be no greater than 2-D, but have \"\n",
      "\u001b[0;31mValueError\u001b[0m: x and y must have same first dimension, but have shapes (8,) and (16,)"
     ]
    },
    {
     "data": {
      "image/png": "[encoded data removed]",
      "text/plain": [
       "<Figure size 432x288 with 1 Axes>"
      ]
     },
     "metadata": {
      "needs_background": "light"
     },
     "output_type": "display_data"
    }
   ],
   "source": [
    "thrs = np.arange(0.60, 1., 0.05)\n",
    "layer = list(range(-1, -10, -1))\n",
    "for L in layer:\n",
    "    recalls = []\n",
    "    for thr in thrs:\n",
    "        tf_chunks = chunks_prediction_from_sentence_objects(sentences_obj, thr=thr, model_layer=L)\n",
    "        r = recall_between_lists(spacy_noun_chunks, tf_chunks)\n",
    "        recalls.append(r)\n",
    "\n",
    "    plt.plot(thrs, recalls)"
   ]
  },
  {
   "cell_type": "code",
   "execution_count": 88,
   "metadata": {},
   "outputs": [
    {
     "name": "stdout",
     "output_type": "stream",
     "text": [
      "Are convolutional neural networks useful for tasks other than image classification?\n",
      "Noun chunks, thr=0.9: ['convolutional_neural_networks', 'networks_useful', 'useful_for', 'for_tasks', 'other_than', 'image_classification']\n",
      "Are non-causal temporal convolutions the equivalence of Bi-LSTM?\n",
      "Noun chunks, thr=0.9: ['non_-', 'causal_temporal', 'temporal_convolution', 'convolution_s', 's_the', 'bi_-', 'ls_tm']\n",
      "Are there any techniques, other than RNN/LSTM, to handle time series data?\n",
      "Noun chunks, thr=0.9: ['there_any', 'other_than', 'rn_n', ',_to', 'to_handle', 'time_series', 'series_data']\n",
      "Bayesian Inference: What is a Dirichlet process in layman's terms?\n",
      "Noun chunks, thr=0.9: ['bayesian_inference', 'is_a', 'dirichlet_process', \"'_s\"]\n",
      "Can an objective account of statistical inference be based on frequentist methods and Bayesian methods?\n",
      "Noun chunks, thr=0.9: ['an_objective', 'objective_account', 'account_of', 'of_statistical', 'statistical_inference', 'be_based', 'based_on', 'ist_methods', 'bayesian_methods']\n"
     ]
    }
   ],
   "source": [
    "thr=0.9\n",
    "tf_chunks = chunks_prediction_from_sentence_objects(sentences_obj, thr=thr, model_layer=-5)\n",
    "for i in range(5):\n",
    "    print(sentences_obj[i].raw_string)\n",
    "    print(f'Noun chunks, thr={thr}:', tf_chunks[i])"
   ]
  },
  {
   "cell_type": "code",
   "execution_count": 91,
   "metadata": {},
   "outputs": [
    {
     "data": {
      "text/plain": [
       "[-1, -2, -3, -4, -5, -6, -7, -8, -9]"
      ]
     },
     "execution_count": 91,
     "metadata": {},
     "output_type": "execute_result"
    }
   ],
   "source": [
    "list(range(-1, -10, -1))"
   ]
  },
  {
   "cell_type": "code",
   "execution_count": null,
   "metadata": {},
   "outputs": [],
   "source": []
  }
 ],
 "metadata": {
  "kernelspec": {
   "display_name": "Zeta Alpha",
   "language": "python",
   "name": "za_conda"
  },
  "language_info": {
   "codemirror_mode": {
    "name": "ipython",
    "version": 3
   },
   "file_extension": ".py",
   "mimetype": "text/x-python",
   "name": "python",
   "nbconvert_exporter": "python",
   "pygments_lexer": "ipython3",
   "version": "3.7.3"
  }
 },
 "nbformat": 4,
 "nbformat_minor": 2
}
