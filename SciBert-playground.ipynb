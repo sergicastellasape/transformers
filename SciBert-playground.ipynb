{
 "cells": [
  {
   "cell_type": "code",
   "execution_count": 1,
   "metadata": {},
   "outputs": [],
   "source": [
    "import PyPDF2\n",
    "import stanfordnlp\n",
    "import pickle\n",
    "import os\n",
    "import glob\n",
    "import torch\n",
    "import torch.nn as nn\n",
    "import torch.optim as optim\n",
    "import torch.nn.functional as F\n",
    "from transformers import *\n",
    "import random\n",
    "import matplotlib.pyplot as plt"
   ]
  },
  {
   "cell_type": "code",
   "execution_count": 2,
   "metadata": {},
   "outputs": [
    {
     "name": "stdout",
     "output_type": "stream",
     "text": [
      "Use device: cpu\n",
      "---\n",
      "Loading: tokenize\n",
      "With settings: \n",
      "{'model_path': '/Users/sergicastellasape/Repos/zeta-alpha/stanfordnlp_resources/en_ewt_models/en_ewt_tokenizer.pt', 'lang': 'en', 'shorthand': 'en_ewt', 'mode': 'predict'}\n",
      "---\n",
      "Loading: pos\n",
      "With settings: \n",
      "{'model_path': '/Users/sergicastellasape/Repos/zeta-alpha/stanfordnlp_resources/en_ewt_models/en_ewt_tagger.pt', 'pretrain_path': '/Users/sergicastellasape/Repos/zeta-alpha/stanfordnlp_resources/en_ewt_models/en_ewt.pretrain.pt', 'lang': 'en', 'shorthand': 'en_ewt', 'mode': 'predict'}\n",
      "---\n",
      "Loading: lemma\n",
      "With settings: \n",
      "{'model_path': '/Users/sergicastellasape/Repos/zeta-alpha/stanfordnlp_resources/en_ewt_models/en_ewt_lemmatizer.pt', 'lang': 'en', 'shorthand': 'en_ewt', 'mode': 'predict'}\n",
      "Building an attentional Seq2Seq model...\n",
      "Using a Bi-LSTM encoder\n",
      "Using soft attention for LSTM.\n",
      "Finetune all embeddings.\n",
      "[Running seq2seq lemmatizer with edit classifier]\n",
      "---\n",
      "Loading: depparse\n",
      "With settings: \n",
      "{'model_path': '/Users/sergicastellasape/Repos/zeta-alpha/stanfordnlp_resources/en_ewt_models/en_ewt_parser.pt', 'pretrain_path': '/Users/sergicastellasape/Repos/zeta-alpha/stanfordnlp_resources/en_ewt_models/en_ewt.pretrain.pt', 'lang': 'en', 'shorthand': 'en_ewt', 'mode': 'predict'}\n",
      "Done loading processors!\n",
      "---\n"
     ]
    }
   ],
   "source": [
    "# model and tokenizer class for the concrete downstream task: BertModel, BertForQuestionAnswering, etc.\n",
    "model_class = BertModel\n",
    "tokenizer_class = BertTokenizer\n",
    "\n",
    "# weights to use\n",
    "pretrained_weights = 'scibert-scivocab-uncased'\n",
    "\n",
    "# initialize models and tokenizer\n",
    "bert_model = model_class.from_pretrained(pretrained_weights)\n",
    "tokenizer = tokenizer_class.from_pretrained(pretrained_weights)\n",
    "\n",
    "# download english models that the neural pipeline will uses\n",
    "#stanfordnlp.download('en')\n",
    "\n",
    "# setting a default neural pipeline for english\n",
    "# Now nlp is a function that receives a string as input and returns an nlp object\n",
    "MODELS_DIR = '/Users/sergicastellasape/Repos/zeta-alpha/stanfordnlp_resources'\n",
    "nlp = stanfordnlp.Pipeline(models_dir=MODELS_DIR)\n",
    "\n",
    "dataset_path = '/Users/sergicastellasape/Repos/zeta-alpha/datasets/dummy/'\n",
    "\n",
    "def get_attention_vec(model_output):\n",
    "    final_attention, final_state, hidden_states_tup, hidden_attentions_tup = model_output\n",
    "    hidden_attentions = torch.cat(hidden_attentions_tup, dim=0) # stacking along batch dim\n",
    "    layers, heads, seq_length, _ = hidden_attentions.size()\n",
    "    attention_vec = hidden_attentions.view(layers*heads, seq_length, seq_length).transpose(0,2)\n",
    "    return attention_vec.reshape(seq_length**2, layers*heads)"
   ]
  },
  {
   "cell_type": "code",
   "execution_count": 16,
   "metadata": {},
   "outputs": [
    {
     "name": "stderr",
     "output_type": "stream",
     "text": [
      "../aten/src/ATen/native/LegacyDefinitions.cpp:19: UserWarning: masked_fill_ received a mask with dtype torch.uint8, this behavior is now deprecated,please use a mask with dtype torch.bool instead.\n",
      "../aten/src/ATen/native/LegacyDefinitions.cpp:19: UserWarning: masked_fill_ received a mask with dtype torch.uint8, this behavior is now deprecated,please use a mask with dtype torch.bool instead.\n",
      "../aten/src/ATen/native/LegacyDefinitions.cpp:19: UserWarning: masked_fill_ received a mask with dtype torch.uint8, this behavior is now deprecated,please use a mask with dtype torch.bool instead.\n",
      "../aten/src/ATen/native/LegacyDefinitions.cpp:19: UserWarning: masked_fill_ received a mask with dtype torch.uint8, this behavior is now deprecated,please use a mask with dtype torch.bool instead.\n",
      "../aten/src/ATen/native/LegacyDefinitions.cpp:19: UserWarning: masked_fill_ received a mask with dtype torch.uint8, this behavior is now deprecated,please use a mask with dtype torch.bool instead.\n",
      "../aten/src/ATen/native/LegacyDefinitions.cpp:19: UserWarning: masked_fill_ received a mask with dtype torch.uint8, this behavior is now deprecated,please use a mask with dtype torch.bool instead.\n",
      "../aten/src/ATen/native/LegacyDefinitions.cpp:19: UserWarning: masked_fill_ received a mask with dtype torch.uint8, this behavior is now deprecated,please use a mask with dtype torch.bool instead.\n",
      "../aten/src/ATen/native/LegacyDefinitions.cpp:19: UserWarning: masked_fill_ received a mask with dtype torch.uint8, this behavior is now deprecated,please use a mask with dtype torch.bool instead.\n",
      "../aten/src/ATen/native/LegacyDefinitions.cpp:19: UserWarning: masked_fill_ received a mask with dtype torch.uint8, this behavior is now deprecated,please use a mask with dtype torch.bool instead.\n",
      "../aten/src/ATen/native/LegacyDefinitions.cpp:19: UserWarning: masked_fill_ received a mask with dtype torch.uint8, this behavior is now deprecated,please use a mask with dtype torch.bool instead.\n",
      "../aten/src/ATen/native/LegacyDefinitions.cpp:19: UserWarning: masked_fill_ received a mask with dtype torch.uint8, this behavior is now deprecated,please use a mask with dtype torch.bool instead.\n",
      "../aten/src/ATen/native/LegacyDefinitions.cpp:19: UserWarning: masked_fill_ received a mask with dtype torch.uint8, this behavior is now deprecated,please use a mask with dtype torch.bool instead.\n",
      "../aten/src/ATen/native/LegacyDefinitions.cpp:19: UserWarning: masked_fill_ received a mask with dtype torch.uint8, this behavior is now deprecated,please use a mask with dtype torch.bool instead.\n",
      "../aten/src/ATen/native/LegacyDefinitions.cpp:19: UserWarning: masked_fill_ received a mask with dtype torch.uint8, this behavior is now deprecated,please use a mask with dtype torch.bool instead.\n",
      "../aten/src/ATen/native/LegacyDefinitions.cpp:19: UserWarning: masked_fill_ received a mask with dtype torch.uint8, this behavior is now deprecated,please use a mask with dtype torch.bool instead.\n"
     ]
    }
   ],
   "source": [
    "input_sequence_list = [\n",
    "    \"Sometimes, all you need to do is completely make an ass of yourself and laugh it off to realise that life isn’t so bad after all.\",\n",
    "    \"I was very proud of my nickname throughout high school but today- I couldn’t be any different to what my nickname was.\",\n",
    "    \"The shooter says goodbye to his love.\",\n",
    "    \"A glittering gem is not enough.\",\n",
    "    \"I think I will buy the red car, or I will lease the blue one.\",\n",
    "    \"If you like tuna and tomato sauce- try combining the two. It’s really not as bad as it sounds.\",\n",
    "    \"If you like tuna and tomato sauce- try combining the two. It’s really not as bad as it sounds.\",\n",
    "    \"She did not cheat on the test, for it was not the right thing to do.\",\n",
    "    \"She folded her handkerchief neatly.\",\n",
    "    \"Someone I know recently combined Maple Syrup & buttered Popcorn thinking it would taste like caramel popcorn. It didn’t and they don’t recommend anyone else do it either.\",\n",
    "    \"My Mum tries to be cool by saying that she likes all the same things that I do.\",\n",
    "    \"Joe made the sugar cookies; Susan decorated them.\",\n",
    "    \"I am happy to take your donation; any amount will be greatly appreciated.\",\n",
    "    \"I would have gotten the promotion, but my attendance wasn’t good enough.\",\n",
    "    \"He turned in the research paper on Friday; otherwise, he would have not passed the class.\"\n",
    "]\n",
    "\n",
    "for idx, input_sequence in enumerate(input_sequence_list):\n",
    "    # generate input in the proper data format\n",
    "    input_ids = tokenizer.encode(input_sequence)\n",
    "    input_tensor = torch.tensor([input_ids])\n",
    "\n",
    "    # RUN THE MODEL FORWARD\n",
    "    # the model output consists of a tuple with 4 components which are the following:\n",
    "    # Final attention: tensor [batch, seq_length, embedding_size]\n",
    "    # Final state: tensor.Size[batch, embedding_size]\n",
    "    # hidden_states_tuple: tuple of length # layers + 1 (it probably inclues the input)\n",
    "        # hidden_states_tuple[i]: tensor.Size(batch, seq_length, embedding_size)\n",
    "    # hidden_attentions_tuple: tuple of length # layers\n",
    "        # hidden_attentions_tuple[i]: tensor.Size(batch, #heads, seq_length, seq_length)\n",
    "    \n",
    "    model_output = bert_model(input_tensor)\n",
    "    \n",
    "    # generate the stanford nlp object that stores relationships, etc.\n",
    "    nlp_obj = nlp(input_sequence)\n",
    "    \n",
    "    # save in folder for future experiments\n",
    "    with open(os.path.join(dataset_path, f'scibert_outputs/model_output_{idx}.p'), 'wb' ) as model_file:\n",
    "        pickle.dump(model_output, model_file)\n",
    "        \n",
    "    with open(os.path.join(dataset_path, f'nlp_objects/nlp_obj_{idx}*.p'), 'wb') as nlp_file:\n",
    "        pickle.dump(nlp_obj, nlp_file)\n",
    "        "
   ]
  },
  {
   "cell_type": "code",
   "execution_count": 3,
   "metadata": {},
   "outputs": [],
   "source": [
    "def attention_dataset_loader(dataset_path, shuffle=True):\n",
    "    \n",
    "    model_outputs_list = glob.glob(f'{dataset_path}/scibert_outputs/model_output_*.p')\n",
    "    nlp_objects_list = glob.glob(f'{dataset_path}/nlp_objects/nlp_obj_*.p')\n",
    "    data_list = list(zip(model_outputs_list, nlp_objects_list))\n",
    "    \n",
    "    attention_dataset = torch.empty((0, 144))\n",
    "    \n",
    "    for data in data_list:\n",
    "        with open(data[0], 'rb') as f:\n",
    "            model_output = pickle.load(f)\n",
    "        \n",
    "        final_attention, final_state, hidden_states_tup, hidden_attentions_tup = model_output\n",
    "        attention_vec = get_attention_vec(model_output)\n",
    "        attention_dataset = torch.cat([attention_dataset, attention_vec] , dim=0)\n",
    "\n",
    "        with open(data[1], 'rb') as f:\n",
    "            nlp_obj = pickle.load(f)\n",
    "    if shuffle:\n",
    "        idx = torch.randperm(attention_dataset.size(0)) \n",
    "        return attention_dataset[idx, :]\n",
    "    else:\n",
    "        return attention_dataset"
   ]
  },
  {
   "cell_type": "code",
   "execution_count": 4,
   "metadata": {},
   "outputs": [],
   "source": [
    "data = attention_dataset_loader(dataset_path, shuffle=True)\n",
    "\n",
    "train_ratio, test_ratio = 0.8, 0.2\n",
    "N = int(0.8 * data.size(0))\n",
    "train_data = data[0:N, :]\n",
    "test_data = data[N:, :]\n",
    "\n",
    "batch_size = 32\n",
    "train_data_batch = list(train_data.split(batch_size, dim=0))\n",
    "test_data_batch = list(test_data.split(batch_size, dim=0))"
   ]
  },
  {
   "cell_type": "code",
   "execution_count": 170,
   "metadata": {},
   "outputs": [
    {
     "name": "stdout",
     "output_type": "stream",
     "text": [
      "#########Random sample and reconstruction###########\n",
      "Train Epoch: 1 [0/223 (0%)]\tLoss: 14.673180\n",
      "Train Epoch: 1 [20/223 (9%)]\tLoss: 10.280327\n",
      "Train Epoch: 1 [40/223 (18%)]\tLoss: 8.800252\n",
      "Train Epoch: 1 [60/223 (27%)]\tLoss: 5.110516\n",
      "Train Epoch: 1 [80/223 (36%)]\tLoss: 5.264652\n",
      "Train Epoch: 1 [100/223 (45%)]\tLoss: 3.473910\n",
      "Train Epoch: 1 [120/223 (54%)]\tLoss: 3.994978\n",
      "Train Epoch: 1 [140/223 (63%)]\tLoss: 3.568108\n",
      "Train Epoch: 1 [160/223 (72%)]\tLoss: 2.884207\n",
      "Train Epoch: 1 [180/223 (81%)]\tLoss: 4.414081\n",
      "Train Epoch: 1 [200/223 (90%)]\tLoss: 3.531755\n",
      "Train Epoch: 1 [220/223 (99%)]\tLoss: 2.825806\n",
      "====> Epoch: 1 Average loss: 1172.8727\n",
      "====> Test set loss: 718.9626\n",
      "#########Random sample and reconstruction###########\n",
      "Train Epoch: 2 [0/223 (0%)]\tLoss: 3.275936\n",
      "Train Epoch: 2 [20/223 (9%)]\tLoss: 2.307310\n",
      "Train Epoch: 2 [40/223 (18%)]\tLoss: 3.878583\n",
      "Train Epoch: 2 [60/223 (27%)]\tLoss: 3.242848\n",
      "Train Epoch: 2 [80/223 (36%)]\tLoss: 3.689768\n",
      "Train Epoch: 2 [100/223 (45%)]\tLoss: 2.622594\n",
      "Train Epoch: 2 [120/223 (54%)]\tLoss: 3.229486\n",
      "Train Epoch: 2 [140/223 (63%)]\tLoss: 2.549360\n",
      "Train Epoch: 2 [160/223 (72%)]\tLoss: 2.468131\n",
      "Train Epoch: 2 [180/223 (81%)]\tLoss: 4.090846\n",
      "Train Epoch: 2 [200/223 (90%)]\tLoss: 3.203408\n",
      "Train Epoch: 2 [220/223 (99%)]\tLoss: 2.589594\n",
      "====> Epoch: 2 Average loss: 673.6698\n",
      "====> Test set loss: 665.6511\n",
      "#########Random sample and reconstruction###########\n",
      "Train Epoch: 3 [0/223 (0%)]\tLoss: 3.063867\n",
      "Train Epoch: 3 [20/223 (9%)]\tLoss: 2.161890\n",
      "Train Epoch: 3 [40/223 (18%)]\tLoss: 3.657776\n",
      "Train Epoch: 3 [60/223 (27%)]\tLoss: 2.996154\n",
      "Train Epoch: 3 [80/223 (36%)]\tLoss: 3.407579\n",
      "Train Epoch: 3 [100/223 (45%)]\tLoss: 2.563374\n",
      "Train Epoch: 3 [120/223 (54%)]\tLoss: 2.950451\n",
      "Train Epoch: 3 [140/223 (63%)]\tLoss: 2.534482\n",
      "Train Epoch: 3 [160/223 (72%)]\tLoss: 2.410371\n",
      "Train Epoch: 3 [180/223 (81%)]\tLoss: 3.751031\n",
      "Train Epoch: 3 [200/223 (90%)]\tLoss: 2.970269\n",
      "Train Epoch: 3 [220/223 (99%)]\tLoss: 2.540671\n",
      "====> Epoch: 3 Average loss: 636.1620\n",
      "====> Test set loss: 640.7029\n",
      "#########Random sample and reconstruction###########\n",
      "Train Epoch: 4 [0/223 (0%)]\tLoss: 3.037302\n",
      "Train Epoch: 4 [20/223 (9%)]\tLoss: 2.159381\n",
      "Train Epoch: 4 [40/223 (18%)]\tLoss: 3.540500\n",
      "Train Epoch: 4 [60/223 (27%)]\tLoss: 2.950322\n",
      "Train Epoch: 4 [80/223 (36%)]\tLoss: 3.328177\n",
      "Train Epoch: 4 [100/223 (45%)]\tLoss: 2.525000\n",
      "Train Epoch: 4 [120/223 (54%)]\tLoss: 2.924197\n",
      "Train Epoch: 4 [140/223 (63%)]\tLoss: 2.509638\n",
      "Train Epoch: 4 [160/223 (72%)]\tLoss: 2.388802\n",
      "Train Epoch: 4 [180/223 (81%)]\tLoss: 3.681344\n",
      "Train Epoch: 4 [200/223 (90%)]\tLoss: 2.930814\n",
      "Train Epoch: 4 [220/223 (99%)]\tLoss: 2.484852\n",
      "====> Epoch: 4 Average loss: 623.6401\n",
      "====> Test set loss: 629.1453\n",
      "#########Random sample and reconstruction###########\n",
      "Train Epoch: 5 [0/223 (0%)]\tLoss: 2.980733\n",
      "Train Epoch: 5 [20/223 (9%)]\tLoss: 2.116916\n",
      "Train Epoch: 5 [40/223 (18%)]\tLoss: 3.512732\n",
      "Train Epoch: 5 [60/223 (27%)]\tLoss: 2.850127\n",
      "Train Epoch: 5 [80/223 (36%)]\tLoss: 3.174299\n",
      "Train Epoch: 5 [100/223 (45%)]\tLoss: 2.490237\n",
      "Train Epoch: 5 [120/223 (54%)]\tLoss: 2.884589\n",
      "Train Epoch: 5 [140/223 (63%)]\tLoss: 2.492380\n",
      "Train Epoch: 5 [160/223 (72%)]\tLoss: 2.310389\n",
      "Train Epoch: 5 [180/223 (81%)]\tLoss: 3.498933\n",
      "Train Epoch: 5 [200/223 (90%)]\tLoss: 2.865825\n",
      "Train Epoch: 5 [220/223 (99%)]\tLoss: 2.389184\n",
      "====> Epoch: 5 Average loss: 608.9155\n",
      "====> Test set loss: 612.9585\n",
      "#########Random sample and reconstruction###########\n",
      "Train Epoch: 6 [0/223 (0%)]\tLoss: 2.919115\n",
      "Train Epoch: 6 [20/223 (9%)]\tLoss: 2.096301\n",
      "Train Epoch: 6 [40/223 (18%)]\tLoss: 3.439961\n",
      "Train Epoch: 6 [60/223 (27%)]\tLoss: 2.787210\n",
      "Train Epoch: 6 [80/223 (36%)]\tLoss: 3.062522\n",
      "Train Epoch: 6 [100/223 (45%)]\tLoss: 2.453272\n",
      "Train Epoch: 6 [120/223 (54%)]\tLoss: 2.880822\n",
      "Train Epoch: 6 [140/223 (63%)]\tLoss: 2.472095\n",
      "Train Epoch: 6 [160/223 (72%)]\tLoss: 2.292895\n",
      "Train Epoch: 6 [180/223 (81%)]\tLoss: 3.391469\n",
      "Train Epoch: 6 [200/223 (90%)]\tLoss: 2.869457\n",
      "Train Epoch: 6 [220/223 (99%)]\tLoss: 2.335367\n",
      "====> Epoch: 6 Average loss: 596.9124\n",
      "====> Test set loss: 605.3273\n",
      "#########Random sample and reconstruction###########\n",
      "Train Epoch: 7 [0/223 (0%)]\tLoss: 2.871148\n",
      "Train Epoch: 7 [20/223 (9%)]\tLoss: 2.055075\n",
      "Train Epoch: 7 [40/223 (18%)]\tLoss: 3.399831\n",
      "Train Epoch: 7 [60/223 (27%)]\tLoss: 2.779127\n",
      "Train Epoch: 7 [80/223 (36%)]\tLoss: 3.057970\n",
      "Train Epoch: 7 [100/223 (45%)]\tLoss: 2.423793\n",
      "Train Epoch: 7 [120/223 (54%)]\tLoss: 2.831654\n",
      "Train Epoch: 7 [140/223 (63%)]\tLoss: 2.456883\n",
      "Train Epoch: 7 [160/223 (72%)]\tLoss: 2.287249\n",
      "Train Epoch: 7 [180/223 (81%)]\tLoss: 3.360960\n",
      "Train Epoch: 7 [200/223 (90%)]\tLoss: 2.774559\n",
      "Train Epoch: 7 [220/223 (99%)]\tLoss: 2.306178\n",
      "====> Epoch: 7 Average loss: 590.8546\n",
      "====> Test set loss: 599.5442\n",
      "#########Random sample and reconstruction###########\n",
      "Train Epoch: 8 [0/223 (0%)]\tLoss: 2.816632\n",
      "Train Epoch: 8 [20/223 (9%)]\tLoss: 2.051890\n",
      "Train Epoch: 8 [40/223 (18%)]\tLoss: 3.365572\n",
      "Train Epoch: 8 [60/223 (27%)]\tLoss: 2.758956\n",
      "Train Epoch: 8 [80/223 (36%)]\tLoss: 3.005169\n",
      "Train Epoch: 8 [100/223 (45%)]\tLoss: 2.436501\n",
      "Train Epoch: 8 [120/223 (54%)]\tLoss: 2.818424\n",
      "Train Epoch: 8 [140/223 (63%)]\tLoss: 2.433752\n",
      "Train Epoch: 8 [160/223 (72%)]\tLoss: 2.264296\n",
      "Train Epoch: 8 [180/223 (81%)]\tLoss: 3.346125\n",
      "Train Epoch: 8 [200/223 (90%)]\tLoss: 2.775004\n",
      "Train Epoch: 8 [220/223 (99%)]\tLoss: 2.294430\n",
      "====> Epoch: 8 Average loss: 586.9886\n",
      "====> Test set loss: 594.8037\n",
      "#########Random sample and reconstruction###########\n",
      "Train Epoch: 9 [0/223 (0%)]\tLoss: 2.797402\n",
      "Train Epoch: 9 [20/223 (9%)]\tLoss: 2.040784\n",
      "Train Epoch: 9 [40/223 (18%)]\tLoss: 3.367910\n",
      "Train Epoch: 9 [60/223 (27%)]\tLoss: 2.744211\n",
      "Train Epoch: 9 [80/223 (36%)]\tLoss: 2.978874\n",
      "Train Epoch: 9 [100/223 (45%)]\tLoss: 2.406697\n",
      "Train Epoch: 9 [120/223 (54%)]\tLoss: 2.764018\n",
      "Train Epoch: 9 [140/223 (63%)]\tLoss: 2.448434\n",
      "Train Epoch: 9 [160/223 (72%)]\tLoss: 2.258132\n",
      "Train Epoch: 9 [180/223 (81%)]\tLoss: 3.331511\n",
      "Train Epoch: 9 [200/223 (90%)]\tLoss: 2.767921\n",
      "Train Epoch: 9 [220/223 (99%)]\tLoss: 2.264281\n",
      "====> Epoch: 9 Average loss: 584.2375\n",
      "====> Test set loss: 592.6664\n",
      "#########Random sample and reconstruction###########\n",
      "Train Epoch: 10 [0/223 (0%)]\tLoss: 2.790886\n",
      "Train Epoch: 10 [20/223 (9%)]\tLoss: 2.035937\n",
      "Train Epoch: 10 [40/223 (18%)]\tLoss: 3.350534\n",
      "Train Epoch: 10 [60/223 (27%)]\tLoss: 2.745962\n",
      "Train Epoch: 10 [80/223 (36%)]\tLoss: 3.014356\n",
      "Train Epoch: 10 [100/223 (45%)]\tLoss: 2.376016\n",
      "Train Epoch: 10 [120/223 (54%)]\tLoss: 2.774072\n",
      "Train Epoch: 10 [140/223 (63%)]\tLoss: 2.414643\n",
      "Train Epoch: 10 [160/223 (72%)]\tLoss: 2.251482\n",
      "Train Epoch: 10 [180/223 (81%)]\tLoss: 3.332739\n",
      "Train Epoch: 10 [200/223 (90%)]\tLoss: 2.724711\n",
      "Train Epoch: 10 [220/223 (99%)]\tLoss: 2.253070\n",
      "====> Epoch: 10 Average loss: 581.0756\n",
      "====> Test set loss: 590.4249\n"
     ]
    },
    {
     "data": {
      "image/png": "[encoded data removed]",
      "text/plain": [
       "<Figure size 432x288 with 2 Axes>"
      ]
     },
     "metadata": {
      "needs_background": "light"
     },
     "output_type": "display_data"
    },
    {
     "data": {
      "image/png": "[encoded data removed]",
      "text/plain": [
       "<Figure size 432x288 with 2 Axes>"
      ]
     },
     "metadata": {
      "needs_background": "light"
     },
     "output_type": "display_data"
    },
    {
     "data": {
      "image/png": "[encoded data removed]",
      "text/plain": [
       "<Figure size 432x288 with 2 Axes>"
      ]
     },
     "metadata": {
      "needs_background": "light"
     },
     "output_type": "display_data"
    },
    {
     "data": {
      "image/png": "[encoded data removed]",
      "text/plain": [
       "<Figure size 432x288 with 2 Axes>"
      ]
     },
     "metadata": {
      "needs_background": "light"
     },
     "output_type": "display_data"
    },
    {
     "data": {
      "image/png": "[encoded data removed]",
      "text/plain": [
       "<Figure size 432x288 with 2 Axes>"
      ]
     },
     "metadata": {
      "needs_background": "light"
     },
     "output_type": "display_data"
    },
    {
     "data": {
      "image/png": "[encoded data removed]",
      "text/plain": [
       "<Figure size 432x288 with 2 Axes>"
      ]
     },
     "metadata": {
      "needs_background": "light"
     },
     "output_type": "display_data"
    },
    {
     "data": {
      "image/png": "[encoded data removed]",
      "text/plain": [
       "<Figure size 432x288 with 2 Axes>"
      ]
     },
     "metadata": {
      "needs_background": "light"
     },
     "output_type": "display_data"
    },
    {
     "data": {
      "image/png": "[encoded data removed]",
      "text/plain": [
       "<Figure size 432x288 with 2 Axes>"
      ]
     },
     "metadata": {
      "needs_background": "light"
     },
     "output_type": "display_data"
    },
    {
     "data": {
      "image/png": "[encoded data removed]",
      "text/plain": [
       "<Figure size 432x288 with 2 Axes>"
      ]
     },
     "metadata": {
      "needs_background": "light"
     },
     "output_type": "display_data"
    },
    {
     "data": {
      "image/png": "[encoded data removed]",
      "text/plain": [
       "<Figure size 432x288 with 2 Axes>"
      ]
     },
     "metadata": {
      "needs_background": "light"
     },
     "output_type": "display_data"
    }
   ],
   "source": [
    "#device = torch.device(\"cuda\" if args.cuda else \"cpu\")\n",
    "\n",
    "class VAE(nn.Module):\n",
    "    def __init__(self, input_size, hidden_size, output_size, embedding_size):\n",
    "        super(VAE, self).__init__()\n",
    "        self.input_size = input_size\n",
    "        \n",
    "        self.fc1 = nn.Linear(input_size, hidden_size)\n",
    "        self.fc21 = nn.Linear(hidden_size, embedding_size)\n",
    "        self.fc22 = nn.Linear(hidden_size, embedding_size)\n",
    "        self.fc3 = nn.Linear(embedding_size, hidden_size)\n",
    "        self.fc4 = nn.Linear(hidden_size, output_size)\n",
    "\n",
    "    def encode(self, x):\n",
    "        h1 = F.relu(self.fc1(x))\n",
    "        return self.fc21(h1), self.fc22(h1)\n",
    "\n",
    "    def reparameterize(self, mu, logvar):\n",
    "        std = torch.exp(0.5*logvar)\n",
    "        eps = torch.randn_like(std)\n",
    "        return mu + eps*std\n",
    "\n",
    "    def decode(self, z):\n",
    "        h3 = F.relu(self.fc3(z))\n",
    "        return torch.sigmoid(self.fc4(h3))\n",
    "\n",
    "    def forward(self, x):\n",
    "        mu, logvar = self.encode(x.view(-1, self.input_size))\n",
    "        z = self.reparameterize(mu, logvar)\n",
    "        return self.decode(z), mu, logvar\n",
    "\n",
    "# Reconstruction + KL divergence losses summed over all elements and batch\n",
    "def loss_function(recon_x, x, mu, logvar):\n",
    "    BCE = F.binary_cross_entropy(recon_x, x, reduction='sum')\n",
    "\n",
    "    # see Appendix B from VAE paper:\n",
    "    # Kingma and Welling. Auto-Encoding Variational Bayes. ICLR, 2014\n",
    "    # https://arxiv.org/abs/1312.6114\n",
    "    # 0.5 * sum(1 + log(sigma^2) - mu^2 - sigma^2)\n",
    "    KLD = -0.2 * torch.sum(1 + logvar - mu.pow(2) - logvar.exp())\n",
    "\n",
    "    return BCE + KLD\n",
    "\n",
    "\n",
    "def train(epoch, DATA=train_data_batch):\n",
    "    model.train()\n",
    "    train_loss = 0\n",
    "    for batch_idx, att_tensor in enumerate(train_data_batch):\n",
    "        optimizer.zero_grad()\n",
    "        recon_batch, mu, logvar = model(att_tensor)\n",
    "        target = att_tensor.detach()\n",
    "        loss = loss_function(recon_batch, target, mu, logvar)\n",
    "        loss.backward(retain_graph=True)\n",
    "        train_loss += loss.item()\n",
    "        optimizer.step()\n",
    "        if batch_idx % log_interval == 0:\n",
    "            print('Train Epoch: {} [{}/{} ({:.0f}%)]\\tLoss: {:.6f}'.format(\n",
    "                epoch, batch_idx , len(train_data_batch),\n",
    "                100. * batch_idx / len(train_data_batch),\n",
    "                loss.item() / len(train_data_batch)))\n",
    "\n",
    "    print('====> Epoch: {} Average loss: {:.4f}'.format(\n",
    "          epoch, train_loss / len(train_data_batch)))\n",
    "\n",
    "\n",
    "def test(epoch, DATA=test_data_batch):\n",
    "    model.eval()\n",
    "    test_loss = 0\n",
    "    with torch.no_grad():\n",
    "        for batch_idx, att_tensor in enumerate(test_data_batch):\n",
    "            #data = data.to(device)\n",
    "            recon_batch, mu, logvar = model(att_tensor)\n",
    "            test_loss += loss_function(recon_batch, att_tensor.detach(), mu, logvar).item()\n",
    "\n",
    "    test_loss /= len(test_data_batch)\n",
    "    print('====> Test set loss: {:.4f}'.format(test_loss))\n",
    "    \n",
    "def sample(random_sample=True, deterministic_embedding=False, sample=0, idx=0):\n",
    "    print(\"#########Random sample and reconstruction###########\")\n",
    "    model.eval()\n",
    "    with torch.no_grad():\n",
    "        # get a random attention vector to sample from\n",
    "        if random_sample:\n",
    "            att_tensor = random.choice(test_data_batch)\n",
    "            idx = random.randint(0, att_tensor.size()[0] - 1)\n",
    "            vec = att_tensor[idx, :]\n",
    "        else:\n",
    "            att_tensor = test_data_batch[sample]\n",
    "            vec = att_tensor[idx, :]\n",
    "        \n",
    "        if deterministic_embedding:\n",
    "            # try to sample deterministically for more consistent results\n",
    "            mu, logvar = model.encode(vec)\n",
    "            recon_img = model.decode(mu)\n",
    "        else:\n",
    "            recon_img, _, _ = model(vec)\n",
    "        \n",
    "        img = vec.view(12, 12).detach().numpy()\n",
    "        recon_img = recon_img.view(12, 12).detach().numpy()\n",
    "        fig, axs = plt.subplots(1, 2)\n",
    "        axs[0].imshow(img)\n",
    "        axs[1].imshow(recon_img)\n",
    "        plt.draw()\n",
    "            \n",
    "epochs = 10\n",
    "device = torch.device('cpu')\n",
    "model = VAE(144, 100, 144, 2).to(device)\n",
    "optimizer = optim.Adam(model.parameters(), lr=1e-3)\n",
    "log_interval = 20\n",
    "\n",
    "if __name__ == \"__main__\":\n",
    "    for epoch in range(1, epochs + 1):\n",
    "        sample(random_sample=False, deterministic_embedding=True, sample=2, idx=2)\n",
    "        train(epoch)\n",
    "        test(epoch)\n",
    "        "
   ]
  },
  {
   "cell_type": "code",
   "execution_count": 115,
   "metadata": {},
   "outputs": [],
   "source": [
    "model_embedding100_KL02 = model"
   ]
  },
  {
   "cell_type": "code",
   "execution_count": 176,
   "metadata": {},
   "outputs": [
    {
     "name": "stdout",
     "output_type": "stream",
     "text": [
      "#########Random sample and reconstruction###########\n"
     ]
    },
    {
     "data": {
      "image/png": "[encoded data removed]",
      "text/plain": [
       "<Figure size 432x288 with 2 Axes>"
      ]
     },
     "metadata": {
      "needs_background": "light"
     },
     "output_type": "display_data"
    }
   ],
   "source": [
    "# Interesting results after 50 epochs, embedding size of 2 and \n",
    "# sample=3 idx=2 is interesting, very stable\n",
    "sample(random_sample=False, deterministic_embedding=False, sample=3, idx=2)"
   ]
  },
  {
   "cell_type": "code",
   "execution_count": null,
   "metadata": {},
   "outputs": [],
   "source": []
  },
  {
   "cell_type": "code",
   "execution_count": null,
   "metadata": {},
   "outputs": [],
   "source": []
  }
 ],
 "metadata": {
  "kernelspec": {
   "display_name": "az_conda",
   "language": "python",
   "name": "az_conda"
  },
  "language_info": {
   "codemirror_mode": {
    "name": "ipython",
    "version": 3
   },
   "file_extension": ".py",
   "mimetype": "text/x-python",
   "name": "python",
   "nbconvert_exporter": "python",
   "pygments_lexer": "ipython3",
   "version": "3.6.8"
  }
 },
 "nbformat": 4,
 "nbformat_minor": 2
}
