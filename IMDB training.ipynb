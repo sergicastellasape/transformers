{
 "cells": [
  {
   "cell_type": "code",
   "execution_count": 115,
   "metadata": {},
   "outputs": [],
   "source": [
    "from custom.pipeline import ClassicPipeline, TransformerPipeline, txt2list, PreProcess\n",
    "from custom.embeddings_generation import EmbeddingGenerator\n",
    "from custom.sentiment import BiLSTMClassifier\n",
    "import spacy\n",
    "import torch\n",
    "import pandas as pd\n",
    "import math"
   ]
  },
  {
   "cell_type": "code",
   "execution_count": 116,
   "metadata": {},
   "outputs": [],
   "source": [
    "IMDB = pd.read_csv('/Users/sergicastellasape/Repos/zeta-alpha/datasets/IMDB/IMDB_dataset.csv')"
   ]
  },
  {
   "cell_type": "code",
   "execution_count": 117,
   "metadata": {
    "code_folding": [
     0,
     11
    ]
   },
   "outputs": [],
   "source": [
    "def sentiment2tensor(sent_list):\n",
    "    logits = []\n",
    "    for sent in sent_list:\n",
    "        if sent == 'positive':\n",
    "            logits.append([1, 0])\n",
    "        elif sent == 'negative':\n",
    "            logits.append([0, 1])\n",
    "        else:\n",
    "            raise ValueError(\"A sentiment wasn't positive or negative!\")\n",
    "    return torch.Tensor(logits)\n",
    "    \n",
    "def max_pooling(input_tensors, dim=0):\n",
    "    # input tensors have shape (n, EmbDimension), \n",
    "    # this is problematic for now because this operation cannot be parallelized on GPU\n",
    "    tensor, _ = torch.max(input_tensors, dim=0)\n",
    "    return tensor"
   ]
  },
  {
   "cell_type": "code",
   "execution_count": 118,
   "metadata": {},
   "outputs": [],
   "source": [
    "preprocess = PreProcess()\n",
    "generator = EmbeddingGenerator(pool_function=max_pooling)"
   ]
  },
  {
   "cell_type": "code",
   "execution_count": 123,
   "metadata": {},
   "outputs": [
    {
     "ename": "ValueError",
     "evalue": "stop",
     "output_type": "error",
     "traceback": [
      "\u001b[0;31m---------------------------------------------------------------------------\u001b[0m",
      "\u001b[0;31mValueError\u001b[0m                                Traceback (most recent call last)",
      "\u001b[0;32m<ipython-input-123-613be63e114d>\u001b[0m in \u001b[0;36m<module>\u001b[0;34m\u001b[0m\n\u001b[1;32m     32\u001b[0m         \u001b[0mL\u001b[0m\u001b[0;34m.\u001b[0m\u001b[0mbackward\u001b[0m\u001b[0;34m(\u001b[0m\u001b[0;34m)\u001b[0m\u001b[0;34m\u001b[0m\u001b[0;34m\u001b[0m\u001b[0m\n\u001b[1;32m     33\u001b[0m         \u001b[0moptimizer\u001b[0m\u001b[0;34m.\u001b[0m\u001b[0mstep\u001b[0m\u001b[0;34m(\u001b[0m\u001b[0;34m)\u001b[0m\u001b[0;34m\u001b[0m\u001b[0;34m\u001b[0m\u001b[0m\n\u001b[0;32m---> 34\u001b[0;31m         \u001b[0;32mraise\u001b[0m \u001b[0mValueError\u001b[0m\u001b[0;34m(\u001b[0m\u001b[0;34m'stop'\u001b[0m\u001b[0;34m)\u001b[0m\u001b[0;34m\u001b[0m\u001b[0;34m\u001b[0m\u001b[0m\n\u001b[0m",
      "\u001b[0;31mValueError\u001b[0m: stop"
     ]
    }
   ],
   "source": [
    "batch_size = 4\n",
    "train_test_ratio = 0.8\n",
    "max_epochs = 3\n",
    "sentset_size = 2\n",
    "num_layers = 2\n",
    "embedding_size = 768\n",
    "hidden_size = 768\n",
    "\n",
    "n_batches = math.floor(len(IMDB) / batch_size)\n",
    "batch_indices = torch.randperm(n_batches*batch_size).reshape(-1, batch_size)\n",
    "\n",
    "split = math.floor(train_test_ratio*n_batches)\n",
    "train_indices = batch_indices[0:split]\n",
    "test_indices  = batch_indices[split:-1]\n",
    "\n",
    "\n",
    "model = BiLSTMClassifier(embedding_size, hidden_size, sentset_size, num_layers, batch_size, dropout=0.)\n",
    "optimizer = torch.optim.Adam(model.parameters(), lr=0.001, betas=(0.9, 0.999), eps=1e-08, weight_decay=0, amsgrad=False)\n",
    "\n",
    "for epoch in range(max_epochs):\n",
    "    for indices in batch_indices:\n",
    "        i = [int(idx) for idx in indices]\n",
    "        batch_sequence = IMDB['review'][i].tolist()\n",
    "        batch_target_sent = IMDB['sentiment'][i].tolist()\n",
    "        batch_target = sentiment2tensor(batch_target_sent)\n",
    "        \n",
    "        batch_tensors, indices_chunk = preprocess.forward(batch_sequence)\n",
    "        #compressed, mask = generator.forward(batch_tensors, indices_chunk)\n",
    "        \n",
    "        batch_prediction = model.forward(batch_tensors)\n",
    "        L = model.loss(batch_prediction, batch_target)\n",
    "        L.backward()\n",
    "        optimizer.step()\n",
    "        raise ValueError('stop')"
   ]
  },
  {
   "cell_type": "code",
   "execution_count": 124,
   "metadata": {},
   "outputs": [
    {
     "data": {
      "text/plain": [
       "tensor(0.7246, grad_fn=<BinaryCrossEntropyWithLogitsBackward>)"
      ]
     },
     "execution_count": 124,
     "metadata": {},
     "output_type": "execute_result"
    }
   ],
   "source": [
    "L"
   ]
  },
  {
   "cell_type": "code",
   "execution_count": 74,
   "metadata": {},
   "outputs": [
    {
     "ename": "TypeError",
     "evalue": "floor(): argument 'input' (position 1) must be Tensor, not float",
     "output_type": "error",
     "traceback": [
      "\u001b[0;31m---------------------------------------------------------------------------\u001b[0m",
      "\u001b[0;31mTypeError\u001b[0m                                 Traceback (most recent call last)",
      "\u001b[0;32m<ipython-input-74-97ad59e6a9c3>\u001b[0m in \u001b[0;36m<module>\u001b[0;34m\u001b[0m\n\u001b[0;32m----> 1\u001b[0;31m \u001b[0mtorch\u001b[0m\u001b[0;34m.\u001b[0m\u001b[0mfloor\u001b[0m\u001b[0;34m(\u001b[0m\u001b[0;36m3.4\u001b[0m\u001b[0;34m,\u001b[0m \u001b[0mdtype\u001b[0m\u001b[0;34m=\u001b[0m\u001b[0mfloat\u001b[0m\u001b[0;34m)\u001b[0m\u001b[0;34m\u001b[0m\u001b[0;34m\u001b[0m\u001b[0m\n\u001b[0m",
      "\u001b[0;31mTypeError\u001b[0m: floor(): argument 'input' (position 1) must be Tensor, not float"
     ]
    }
   ],
   "source": []
  },
  {
   "cell_type": "code",
   "execution_count": null,
   "metadata": {},
   "outputs": [],
   "source": []
  }
 ],
 "metadata": {
  "kernelspec": {
   "display_name": "Zeta Alpha",
   "language": "python",
   "name": "za_conda"
  },
  "language_info": {
   "codemirror_mode": {
    "name": "ipython",
    "version": 3
   },
   "file_extension": ".py",
   "mimetype": "text/x-python",
   "name": "python",
   "nbconvert_exporter": "python",
   "pygments_lexer": "ipython3",
   "version": "3.7.3"
  }
 },
 "nbformat": 4,
 "nbformat_minor": 2
}
