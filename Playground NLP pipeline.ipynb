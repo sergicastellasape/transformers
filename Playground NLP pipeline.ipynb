{
 "cells": [
  {
   "cell_type": "code",
   "execution_count": 1,
   "metadata": {},
   "outputs": [],
   "source": [
    "from custom.pipeline import ClassicPipeline, TransformerPipeline, txt2list, PreProcess\n",
    "import spacy"
   ]
  },
  {
   "cell_type": "code",
   "execution_count": 2,
   "metadata": {},
   "outputs": [],
   "source": [
    "preprocess = PreProcess()\n",
    "batch_sequence = preprocess.load_text(\n",
    "    txt_path='/Users/sergicastellasape/Repos/zeta-alpha/datasets/quora_questions_lite.txt')\n",
    "batch_tensors, indices_chunk = preprocess.forward(batch_sequence)"
   ]
  },
  {
   "cell_type": "code",
   "execution_count": 5,
   "metadata": {},
   "outputs": [
    {
     "data": {
      "text/plain": [
       "[(1,),\n",
       " (2, 3, 4, 5, 6, 7, 8),\n",
       " (9,),\n",
       " (10,),\n",
       " (11,),\n",
       " (12,),\n",
       " (13,),\n",
       " (14, 15),\n",
       " (16,)]"
      ]
     },
     "execution_count": 5,
     "metadata": {},
     "output_type": "execute_result"
    }
   ],
   "source": [
    "pp = PreProcess()\n",
    "cm = CompressionModel()\n",
    "for doc_path in train_dir:\n",
    "    batch_sequence = pp.load_text(txt_path=doc_path)\n",
    "    batch_tensors, idx_chunk = pp.forward(batch_sequence)\n",
    "    compact_rep = cm.forward(batch_tensors, idx_chunk)\n",
    "    loss.backward()"
   ]
  },
  {
   "cell_type": "code",
   "execution_count": 2,
   "metadata": {},
   "outputs": [],
   "source": [
    "nlp = spacy.load('en_trf_bertbaseuncased_lg')\n",
    "classic_nlp = spacy.load('en_core_web_sm')"
   ]
  },
  {
   "cell_type": "code",
   "execution_count": 3,
   "metadata": {},
   "outputs": [],
   "source": [
    "#text = \"What is a bayesian neural network?\"\n",
    "cls_pipeline = ClassicPipeline()\n",
    "trf_pipeline = TransformerPipeline()"
   ]
  },
  {
   "cell_type": "code",
   "execution_count": 9,
   "metadata": {},
   "outputs": [],
   "source": [
    "texts = txt2list(\n",
    "    txt_path='/Users/sergicastellasape/Repos/zeta-alpha/datasets/quora_questions.txt')\n",
    "docs = trf_pipeline.make_docs(texts[0:10])\n",
    "cls_docs = cls_pipeline.make_docs(texts)"
   ]
  },
  {
   "cell_type": "code",
   "execution_count": 5,
   "metadata": {},
   "outputs": [],
   "source": [
    "#texts = ['What are Convolutional Neural Networks this is.', 'Are bayesian networks new.']\n",
    "\n",
    "spacy_tokenization = cls_pipeline.make_base_tokenization(cls_docs)\n",
    "base_chunks = cls_pipeline.make_noun_phrase_chunks(cls_docs)\n",
    "\n",
    "brackets, chunk2spacy_idx = cls_pipeline.compact_tokens(texts)\n",
    "spacy2trf_idx = trf_pipeline.spacy2trf_indices(docs)\n",
    "\n",
    "chunk2trf_idx = trf_pipeline.chunk2trf_indices(chunk2spacy_idx, spacy2trf_idx)"
   ]
  },
  {
   "cell_type": "code",
   "execution_count": 8,
   "metadata": {},
   "outputs": [
    {
     "name": "stdout",
     "output_type": "stream",
     "text": [
      "Spacy chunks:  [('what',), ('a', 'dirichlet', 'process'), ('layman', \"'s\", 'terms')]\n",
      "Spacy tokens:  ['bayesian', 'inference', ':', 'what', 'is', 'a', 'dirichlet', 'process', 'in', 'layman', \"'s\", 'terms', '?']\n",
      "Transformer wordpieces:  ['[CLS]', 'bay', '##esian', 'inference', ':', 'what', 'is', 'a', 'dir', '##ich', '##let', 'process', 'in', 'lay', '##man', \"'\", 's', 'terms', '?', '[SEP]']\n",
      "Chunk to trans idx:  [(1, 2), (3,), (4,), (5,), (6,), (7, 8, 9, 10, 11), (12,), (13, 14, 15, 16, 17), (18,)]\n"
     ]
    }
   ],
   "source": [
    "i = 3\n",
    "\n",
    "print(\"Spacy chunks: \", base_chunks[i])\n",
    "print(\"Spacy tokens: \", spacy_tokenization[i])\n",
    "print(\"Transformer wordpieces: \", docs[i]._.trf_word_pieces_)\n",
    "print(\"Chunk to trans idx: \", chunk2trf_idx[i])"
   ]
  },
  {
   "cell_type": "code",
   "execution_count": null,
   "metadata": {},
   "outputs": [],
   "source": []
  },
  {
   "cell_type": "code",
   "execution_count": 7,
   "metadata": {},
   "outputs": [
    {
     "ename": "NameError",
     "evalue": "name 'text' is not defined",
     "output_type": "error",
     "traceback": [
      "\u001b[0;31m---------------------------------------------------------------------------\u001b[0m",
      "\u001b[0;31mNameError\u001b[0m                                 Traceback (most recent call last)",
      "\u001b[0;32m<ipython-input-7-acbd11a6efcc>\u001b[0m in \u001b[0;36m<module>\u001b[0;34m\u001b[0m\n\u001b[0;32m----> 1\u001b[0;31m \u001b[0mclassic_doc\u001b[0m \u001b[0;34m=\u001b[0m \u001b[0mclassic_nlp\u001b[0m\u001b[0;34m(\u001b[0m\u001b[0mtext\u001b[0m\u001b[0;34m)\u001b[0m\u001b[0;34m\u001b[0m\u001b[0;34m\u001b[0m\u001b[0m\n\u001b[0m\u001b[1;32m      2\u001b[0m \u001b[0mchunks_tokenization\u001b[0m \u001b[0;34m=\u001b[0m \u001b[0;34m[\u001b[0m\u001b[0mchunk\u001b[0m\u001b[0;34m.\u001b[0m\u001b[0mtext\u001b[0m \u001b[0;32mfor\u001b[0m \u001b[0mchunk\u001b[0m \u001b[0;32min\u001b[0m \u001b[0mclassic_doc\u001b[0m\u001b[0;34m.\u001b[0m\u001b[0mnoun_chunks\u001b[0m\u001b[0;34m]\u001b[0m\u001b[0;34m\u001b[0m\u001b[0;34m\u001b[0m\u001b[0m\n\u001b[1;32m      3\u001b[0m \u001b[0mspacy_tokenization\u001b[0m \u001b[0;34m=\u001b[0m \u001b[0;34m[\u001b[0m\u001b[0mword\u001b[0m\u001b[0;34m.\u001b[0m\u001b[0mtext\u001b[0m \u001b[0;32mfor\u001b[0m \u001b[0mword\u001b[0m \u001b[0;32min\u001b[0m \u001b[0mdoc\u001b[0m\u001b[0;34m]\u001b[0m\u001b[0;34m\u001b[0m\u001b[0;34m\u001b[0m\u001b[0m\n",
      "\u001b[0;31mNameError\u001b[0m: name 'text' is not defined"
     ]
    }
   ],
   "source": [
    "classic_doc = classic_nlp(text)\n",
    "chunks_tokenization = [chunk.text for chunk in classic_doc.noun_chunks]\n",
    "spacy_tokenization = [word.text for word in doc]"
   ]
  },
  {
   "cell_type": "code",
   "execution_count": null,
   "metadata": {},
   "outputs": [],
   "source": [
    "print(chunks_tokenization)\n",
    "print(spacy_tokenization)\n",
    "spacy"
   ]
  },
  {
   "cell_type": "code",
   "execution_count": null,
   "metadata": {},
   "outputs": [],
   "source": [
    "from spacy.gold import align\n",
    "a = ['What', 'is', 'a bayesian neural network', '?']\n",
    "b = ['What', 'is', 'a', 'bayesian', 'neural', 'network', '?']\n",
    "cost, a2b, b2a, a2b_multi, b2a_multi = align(a, b)\n",
    "print(\"Misaligned tokens:\", cost)  # 2\n",
    "print(\"One-to-one mappings a -> b\", a2b)  # array([0, 1, 2, 3, -1, -1, 5, 6])\n",
    "print(\"One-to-one mappings b -> a\", b2a)  # array([0, 1, 2, 3, 5, 6, 7])\n",
    "print(\"Many-to-one mappings a -> b\", a2b_multi)  # {4: 4, 5: 4}\n",
    "print(\"Many-to-one mappings b-> a\", b2a_multi)  # {}"
   ]
  },
  {
   "cell_type": "code",
   "execution_count": null,
   "metadata": {},
   "outputs": [],
   "source": [
    "a = [(1,), (2,), (3, 4,), (5,)]\n",
    "print(a[1:])"
   ]
  },
  {
   "cell_type": "code",
   "execution_count": null,
   "metadata": {},
   "outputs": [],
   "source": [
    "s = 'sergi     castella'\n",
    "s.split()"
   ]
  },
  {
   "cell_type": "code",
   "execution_count": null,
   "metadata": {},
   "outputs": [],
   "source": [
    "print(s)"
   ]
  },
  {
   "cell_type": "code",
   "execution_count": null,
   "metadata": {},
   "outputs": [],
   "source": []
  }
 ],
 "metadata": {
  "kernelspec": {
   "display_name": "Zeta Alpha",
   "language": "python",
   "name": "za_conda"
  },
  "language_info": {
   "codemirror_mode": {
    "name": "ipython",
    "version": 3
   },
   "file_extension": ".py",
   "mimetype": "text/x-python",
   "name": "python",
   "nbconvert_exporter": "python",
   "pygments_lexer": "ipython3",
   "version": "3.7.3"
  }
 },
 "nbformat": 4,
 "nbformat_minor": 2
}
